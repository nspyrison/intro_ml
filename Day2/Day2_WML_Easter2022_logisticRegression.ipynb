{
 "cells": [
  {
   "cell_type": "code",
   "execution_count": 1,
   "metadata": {
    "colab": {
     "base_uri": "https://localhost:8080/"
    },
    "id": "e0tD6lwbykR0",
    "outputId": "c96b00f1-b789-4bee-b8d2-8f2386404534"
   },
   "outputs": [
    {
     "name": "stderr",
     "output_type": "stream",
     "text": [
      "Loading required package: tidyverse\n",
      "\n",
      "── \u001b[1mAttaching packages\u001b[22m ─────────────────────────────────────── tidyverse 1.3.1 ──\n",
      "\n",
      "\u001b[32m✔\u001b[39m \u001b[34mggplot2\u001b[39m 3.3.5     \u001b[32m✔\u001b[39m \u001b[34mpurrr  \u001b[39m 0.3.4\n",
      "\u001b[32m✔\u001b[39m \u001b[34mtibble \u001b[39m 3.1.6     \u001b[32m✔\u001b[39m \u001b[34mdplyr  \u001b[39m 1.0.8\n",
      "\u001b[32m✔\u001b[39m \u001b[34mtidyr  \u001b[39m 1.2.0     \u001b[32m✔\u001b[39m \u001b[34mstringr\u001b[39m 1.4.0\n",
      "\u001b[32m✔\u001b[39m \u001b[34mreadr  \u001b[39m 2.1.2     \u001b[32m✔\u001b[39m \u001b[34mforcats\u001b[39m 0.5.1\n",
      "\n",
      "── \u001b[1mConflicts\u001b[22m ────────────────────────────────────────── tidyverse_conflicts() ──\n",
      "\u001b[31m✖\u001b[39m \u001b[34mdplyr\u001b[39m::\u001b[32mfilter()\u001b[39m masks \u001b[34mstats\u001b[39m::filter()\n",
      "\u001b[31m✖\u001b[39m \u001b[34mdplyr\u001b[39m::\u001b[32mlag()\u001b[39m    masks \u001b[34mstats\u001b[39m::lag()\n",
      "\n",
      "Loading required package: repr\n",
      "\n",
      "Loading required package: rpart\n",
      "\n",
      "Loading required package: rpart.plot\n",
      "\n",
      "Loading required package: caret\n",
      "\n",
      "Loading required package: lattice\n",
      "\n",
      "\n",
      "Attaching package: ‘caret’\n",
      "\n",
      "\n",
      "The following object is masked from ‘package:purrr’:\n",
      "\n",
      "    lift\n",
      "\n",
      "\n",
      "Loading required package: precrec\n",
      "\n",
      "Loading required package: e1071\n",
      "\n",
      "Loading required package: MASS\n",
      "\n",
      "\n",
      "Attaching package: ‘MASS’\n",
      "\n",
      "\n",
      "The following object is masked from ‘package:dplyr’:\n",
      "\n",
      "    select\n",
      "\n",
      "\n",
      "Loading required package: glmulti\n",
      "\n",
      "Warning message in library(package, lib.loc = lib.loc, character.only = TRUE, logical.return = TRUE, :\n",
      "“there is no package called ‘glmulti’”\n",
      "Installing package into ‘/Users/priscilagrecov/Desktop/ML_Workshop/Codes/packages’\n",
      "(as ‘lib’ is unspecified)\n",
      "\n"
     ]
    },
    {
     "name": "stdout",
     "output_type": "stream",
     "text": [
      "\n",
      "The downloaded binary packages are in\n",
      "\t/var/folders/hj/vv2hsj8534d1nypkg8lzwy_w0000gn/T//Rtmpnt6AYa/downloaded_packages\n"
     ]
    }
   ],
   "source": [
    "# initial settings\n",
    "#Note the installation of the forecast packages takes a while\n",
    "library_path <- paste(getwd(), \"packages\",sep=\"/\")\n",
    "dir.create(library_path,showWarnings = FALSE)\n",
    ".libPaths(library_path)\n",
    "\n",
    "if(!require(tidyverse)){\n",
    "    install.packages(\"tidyverse\")\n",
    "    library(tidyverse)\n",
    "}\n",
    "if(!require(repr)){\n",
    "    install.packages(\"repr\")\n",
    "    library(repr)\n",
    "}\n",
    "if(!require(rpart)){\n",
    "    install.packages(\"rpart\")\n",
    "    library(rpart)\n",
    "}\n",
    "if(!require(rpart.plot)){\n",
    "    install.packages(\"rpart.plot\")\n",
    "    library(rpart.plot)\n",
    "}\n",
    "if(!require(caret)){\n",
    "    install.packages(\"caret\")\n",
    "    library(caret)\n",
    "}\n",
    "if(!require(precrec)){\n",
    "    install.packages(\"precrec\")\n",
    "    library(precrec)\n",
    "}\n",
    "if(!require(e1071)){\n",
    "    install.packages(\"e1071\")\n",
    "    library(e1071)\n",
    "}\n",
    "if(!require(MASS)){\n",
    "    install.packages(\"e1071\")\n",
    "    library(e1071)\n",
    "}\n",
    "if(!require(glmulti)){\n",
    "    install.packages(\"e1071\")\n",
    "    library(e1071)\n",
    "}\n",
    "\n",
    "#library(tidyverse)\n",
    "#library(tree)\n",
    "#library(rpart)\n",
    "#library(rpart.plot)\n",
    "#library(caret)\n",
    "#library(MASS)\n",
    "#library(glmulti)\n",
    "\n",
    "#install.packages('precrec',lib='.', verbose=TRUE)\n",
    "#library(precrec,lib.loc='.')\n",
    "\n",
    "\n",
    "# Plot size depending on your screen resolution to 6 x 9\n",
    "options(repr.plot.width=9, repr.plot.height=6)\n"
   ]
  },
  {
   "cell_type": "markdown",
   "metadata": {
    "id": "565n6YKbykR6"
   },
   "source": [
    "# Welcome to Day 2 ML Workshop\n"
   ]
  },
  {
   "cell_type": "markdown",
   "metadata": {
    "id": "Sxatsov8ykR7"
   },
   "source": [
    "### Exercise 1: Build a Logistic Regression for Classification\n"
   ]
  },
  {
   "cell_type": "markdown",
   "metadata": {
    "id": "gveak0qdykR8"
   },
   "source": [
    "Read in the `eBayAuctions.csv` file. This dataset contains information on 1972 auctions transacted on eBay.com during May-June 2004. The goal is to use these data to build a model that will distinguish competitive auctions from non-competitive ones. A competitive auction is defined as an auction with at least two bids placed on the item being\n",
    "auctioned. \n",
    "\n",
    "The data include variables that describe the item (auction category), the seller (his or her eBay rating), and the auction terms that the seller selected (auction duration, opening price, currency, day of week of auction close). In addition, we have the price at which the auction closed. The goal is to predict whether or not an auction of interest\n",
    "will be competitive."
   ]
  },
  {
   "cell_type": "markdown",
   "metadata": {},
   "source": [
    "##### Data preprocessing.  \n",
    "Create dummy variables for the categorical predictors.\n",
    "These include Category (18 categories), Currency (USD, GBP, Euro), EndDay (Monday-Sunday), and Duration (1, 3, 5, 7, or 10 days)."
   ]
  },
  {
   "cell_type": "code",
   "execution_count": 2,
   "metadata": {},
   "outputs": [
    {
     "data": {
      "text/html": [
       "<table class=\"dataframe\">\n",
       "<caption>A data.frame: 6 × 8</caption>\n",
       "<thead>\n",
       "\t<tr><th></th><th scope=col>Category</th><th scope=col>currency</th><th scope=col>sellerRating</th><th scope=col>Duration</th><th scope=col>endDay</th><th scope=col>ClosePrice</th><th scope=col>OpenPrice</th><th scope=col>Competitive.</th></tr>\n",
       "\t<tr><th></th><th scope=col>&lt;chr&gt;</th><th scope=col>&lt;chr&gt;</th><th scope=col>&lt;int&gt;</th><th scope=col>&lt;int&gt;</th><th scope=col>&lt;chr&gt;</th><th scope=col>&lt;dbl&gt;</th><th scope=col>&lt;dbl&gt;</th><th scope=col>&lt;int&gt;</th></tr>\n",
       "</thead>\n",
       "<tbody>\n",
       "\t<tr><th scope=row>1</th><td>Music/Movie/Game</td><td>US</td><td>3249</td><td>5</td><td>Mon</td><td>0.01</td><td>0.01</td><td>0</td></tr>\n",
       "\t<tr><th scope=row>2</th><td>Music/Movie/Game</td><td>US</td><td>3249</td><td>5</td><td>Mon</td><td>0.01</td><td>0.01</td><td>0</td></tr>\n",
       "\t<tr><th scope=row>3</th><td>Music/Movie/Game</td><td>US</td><td>3249</td><td>5</td><td>Mon</td><td>0.01</td><td>0.01</td><td>0</td></tr>\n",
       "\t<tr><th scope=row>4</th><td>Music/Movie/Game</td><td>US</td><td>3249</td><td>5</td><td>Mon</td><td>0.01</td><td>0.01</td><td>0</td></tr>\n",
       "\t<tr><th scope=row>5</th><td>Music/Movie/Game</td><td>US</td><td>3249</td><td>5</td><td>Mon</td><td>0.01</td><td>0.01</td><td>0</td></tr>\n",
       "\t<tr><th scope=row>6</th><td>Music/Movie/Game</td><td>US</td><td>3249</td><td>5</td><td>Mon</td><td>0.01</td><td>0.01</td><td>0</td></tr>\n",
       "</tbody>\n",
       "</table>\n"
      ],
      "text/latex": [
       "A data.frame: 6 × 8\n",
       "\\begin{tabular}{r|llllllll}\n",
       "  & Category & currency & sellerRating & Duration & endDay & ClosePrice & OpenPrice & Competitive.\\\\\n",
       "  & <chr> & <chr> & <int> & <int> & <chr> & <dbl> & <dbl> & <int>\\\\\n",
       "\\hline\n",
       "\t1 & Music/Movie/Game & US & 3249 & 5 & Mon & 0.01 & 0.01 & 0\\\\\n",
       "\t2 & Music/Movie/Game & US & 3249 & 5 & Mon & 0.01 & 0.01 & 0\\\\\n",
       "\t3 & Music/Movie/Game & US & 3249 & 5 & Mon & 0.01 & 0.01 & 0\\\\\n",
       "\t4 & Music/Movie/Game & US & 3249 & 5 & Mon & 0.01 & 0.01 & 0\\\\\n",
       "\t5 & Music/Movie/Game & US & 3249 & 5 & Mon & 0.01 & 0.01 & 0\\\\\n",
       "\t6 & Music/Movie/Game & US & 3249 & 5 & Mon & 0.01 & 0.01 & 0\\\\\n",
       "\\end{tabular}\n"
      ],
      "text/markdown": [
       "\n",
       "A data.frame: 6 × 8\n",
       "\n",
       "| <!--/--> | Category &lt;chr&gt; | currency &lt;chr&gt; | sellerRating &lt;int&gt; | Duration &lt;int&gt; | endDay &lt;chr&gt; | ClosePrice &lt;dbl&gt; | OpenPrice &lt;dbl&gt; | Competitive. &lt;int&gt; |\n",
       "|---|---|---|---|---|---|---|---|---|\n",
       "| 1 | Music/Movie/Game | US | 3249 | 5 | Mon | 0.01 | 0.01 | 0 |\n",
       "| 2 | Music/Movie/Game | US | 3249 | 5 | Mon | 0.01 | 0.01 | 0 |\n",
       "| 3 | Music/Movie/Game | US | 3249 | 5 | Mon | 0.01 | 0.01 | 0 |\n",
       "| 4 | Music/Movie/Game | US | 3249 | 5 | Mon | 0.01 | 0.01 | 0 |\n",
       "| 5 | Music/Movie/Game | US | 3249 | 5 | Mon | 0.01 | 0.01 | 0 |\n",
       "| 6 | Music/Movie/Game | US | 3249 | 5 | Mon | 0.01 | 0.01 | 0 |\n",
       "\n"
      ],
      "text/plain": [
       "  Category         currency sellerRating Duration endDay ClosePrice OpenPrice\n",
       "1 Music/Movie/Game US       3249         5        Mon    0.01       0.01     \n",
       "2 Music/Movie/Game US       3249         5        Mon    0.01       0.01     \n",
       "3 Music/Movie/Game US       3249         5        Mon    0.01       0.01     \n",
       "4 Music/Movie/Game US       3249         5        Mon    0.01       0.01     \n",
       "5 Music/Movie/Game US       3249         5        Mon    0.01       0.01     \n",
       "6 Music/Movie/Game US       3249         5        Mon    0.01       0.01     \n",
       "  Competitive.\n",
       "1 0           \n",
       "2 0           \n",
       "3 0           \n",
       "4 0           \n",
       "5 0           \n",
       "6 0           "
      ]
     },
     "metadata": {},
     "output_type": "display_data"
    }
   ],
   "source": [
    "#load the data\n",
    "ebay.df <- read.csv(\"ebayAuctions.csv\", stringsAsFactors = FALSE)\n",
    "head(ebay.df)"
   ]
  },
  {
   "cell_type": "markdown",
   "metadata": {},
   "source": [
    "Data prepocessing for categorical variable:\n",
    "- Create pivot tables for the mean of the binary outcome (Competitive?) as a function of the various categorical variables (use the original variables, not the dummies). Use the information in the tables to reduce the number of dummies that will be used in the model. For example, categories that appear most similar with respect to the distribution of competitive auctions could be combined."
   ]
  },
  {
   "cell_type": "code",
   "execution_count": 3,
   "metadata": {
    "colab": {
     "base_uri": "https://localhost:8080/"
    },
    "id": "MGgJ13D-ykR8",
    "outputId": "b78dedab-b72f-4f2e-ccc9-3e0d205a932c"
   },
   "outputs": [
    {
     "data": {
      "text/html": [
       "<table class=\"dataframe\">\n",
       "<caption>A data.frame: 18 × 1</caption>\n",
       "<thead>\n",
       "\t<tr><th></th><th scope=col>tapply.ebay.df.Competitive...ebay.df.Category..mean.</th></tr>\n",
       "\t<tr><th></th><th scope=col>&lt;dbl&gt;</th></tr>\n",
       "</thead>\n",
       "<tbody>\n",
       "\t<tr><th scope=row>Antique/Art/Craft</th><td>0.5649718</td></tr>\n",
       "\t<tr><th scope=row>Automotive</th><td>0.3539326</td></tr>\n",
       "\t<tr><th scope=row>Books</th><td>0.5000000</td></tr>\n",
       "\t<tr><th scope=row>Business/Industrial</th><td>0.6666667</td></tr>\n",
       "\t<tr><th scope=row>Clothing/Accessories</th><td>0.5042017</td></tr>\n",
       "\t<tr><th scope=row>Coins/Stamps</th><td>0.2972973</td></tr>\n",
       "\t<tr><th scope=row>Collectibles</th><td>0.5774059</td></tr>\n",
       "\t<tr><th scope=row>Computer</th><td>0.6666667</td></tr>\n",
       "\t<tr><th scope=row>Electronics</th><td>0.8000000</td></tr>\n",
       "\t<tr><th scope=row>EverythingElse</th><td>0.2352941</td></tr>\n",
       "\t<tr><th scope=row>Health/Beauty</th><td>0.1718750</td></tr>\n",
       "\t<tr><th scope=row>Home/Garden</th><td>0.6568627</td></tr>\n",
       "\t<tr><th scope=row>Jewelry</th><td>0.3658537</td></tr>\n",
       "\t<tr><th scope=row>Music/Movie/Game</th><td>0.6029777</td></tr>\n",
       "\t<tr><th scope=row>Photography</th><td>0.8461538</td></tr>\n",
       "\t<tr><th scope=row>Pottery/Glass</th><td>0.3500000</td></tr>\n",
       "\t<tr><th scope=row>SportingGoods</th><td>0.7258065</td></tr>\n",
       "\t<tr><th scope=row>Toys/Hobbies</th><td>0.5299145</td></tr>\n",
       "</tbody>\n",
       "</table>\n"
      ],
      "text/latex": [
       "A data.frame: 18 × 1\n",
       "\\begin{tabular}{r|l}\n",
       "  & tapply.ebay.df.Competitive...ebay.df.Category..mean.\\\\\n",
       "  & <dbl>\\\\\n",
       "\\hline\n",
       "\tAntique/Art/Craft & 0.5649718\\\\\n",
       "\tAutomotive & 0.3539326\\\\\n",
       "\tBooks & 0.5000000\\\\\n",
       "\tBusiness/Industrial & 0.6666667\\\\\n",
       "\tClothing/Accessories & 0.5042017\\\\\n",
       "\tCoins/Stamps & 0.2972973\\\\\n",
       "\tCollectibles & 0.5774059\\\\\n",
       "\tComputer & 0.6666667\\\\\n",
       "\tElectronics & 0.8000000\\\\\n",
       "\tEverythingElse & 0.2352941\\\\\n",
       "\tHealth/Beauty & 0.1718750\\\\\n",
       "\tHome/Garden & 0.6568627\\\\\n",
       "\tJewelry & 0.3658537\\\\\n",
       "\tMusic/Movie/Game & 0.6029777\\\\\n",
       "\tPhotography & 0.8461538\\\\\n",
       "\tPottery/Glass & 0.3500000\\\\\n",
       "\tSportingGoods & 0.7258065\\\\\n",
       "\tToys/Hobbies & 0.5299145\\\\\n",
       "\\end{tabular}\n"
      ],
      "text/markdown": [
       "\n",
       "A data.frame: 18 × 1\n",
       "\n",
       "| <!--/--> | tapply.ebay.df.Competitive...ebay.df.Category..mean. &lt;dbl&gt; |\n",
       "|---|---|\n",
       "| Antique/Art/Craft | 0.5649718 |\n",
       "| Automotive | 0.3539326 |\n",
       "| Books | 0.5000000 |\n",
       "| Business/Industrial | 0.6666667 |\n",
       "| Clothing/Accessories | 0.5042017 |\n",
       "| Coins/Stamps | 0.2972973 |\n",
       "| Collectibles | 0.5774059 |\n",
       "| Computer | 0.6666667 |\n",
       "| Electronics | 0.8000000 |\n",
       "| EverythingElse | 0.2352941 |\n",
       "| Health/Beauty | 0.1718750 |\n",
       "| Home/Garden | 0.6568627 |\n",
       "| Jewelry | 0.3658537 |\n",
       "| Music/Movie/Game | 0.6029777 |\n",
       "| Photography | 0.8461538 |\n",
       "| Pottery/Glass | 0.3500000 |\n",
       "| SportingGoods | 0.7258065 |\n",
       "| Toys/Hobbies | 0.5299145 |\n",
       "\n"
      ],
      "text/plain": [
       "                     tapply.ebay.df.Competitive...ebay.df.Category..mean.\n",
       "Antique/Art/Craft    0.5649718                                           \n",
       "Automotive           0.3539326                                           \n",
       "Books                0.5000000                                           \n",
       "Business/Industrial  0.6666667                                           \n",
       "Clothing/Accessories 0.5042017                                           \n",
       "Coins/Stamps         0.2972973                                           \n",
       "Collectibles         0.5774059                                           \n",
       "Computer             0.6666667                                           \n",
       "Electronics          0.8000000                                           \n",
       "EverythingElse       0.2352941                                           \n",
       "Health/Beauty        0.1718750                                           \n",
       "Home/Garden          0.6568627                                           \n",
       "Jewelry              0.3658537                                           \n",
       "Music/Movie/Game     0.6029777                                           \n",
       "Photography          0.8461538                                           \n",
       "Pottery/Glass        0.3500000                                           \n",
       "SportingGoods        0.7258065                                           \n",
       "Toys/Hobbies         0.5299145                                           "
      ]
     },
     "metadata": {},
     "output_type": "display_data"
    },
    {
     "data": {
      "text/html": [
       "<table class=\"dataframe\">\n",
       "<caption>A data.frame: 3 × 1</caption>\n",
       "<thead>\n",
       "\t<tr><th></th><th scope=col>tapply.ebay.df.Competitive...ebay.df.currency..mean.</th></tr>\n",
       "\t<tr><th></th><th scope=col>&lt;dbl&gt;</th></tr>\n",
       "</thead>\n",
       "<tbody>\n",
       "\t<tr><th scope=row>EUR</th><td>0.5515947</td></tr>\n",
       "\t<tr><th scope=row>GBP</th><td>0.6870748</td></tr>\n",
       "\t<tr><th scope=row>US</th><td>0.5193498</td></tr>\n",
       "</tbody>\n",
       "</table>\n"
      ],
      "text/latex": [
       "A data.frame: 3 × 1\n",
       "\\begin{tabular}{r|l}\n",
       "  & tapply.ebay.df.Competitive...ebay.df.currency..mean.\\\\\n",
       "  & <dbl>\\\\\n",
       "\\hline\n",
       "\tEUR & 0.5515947\\\\\n",
       "\tGBP & 0.6870748\\\\\n",
       "\tUS & 0.5193498\\\\\n",
       "\\end{tabular}\n"
      ],
      "text/markdown": [
       "\n",
       "A data.frame: 3 × 1\n",
       "\n",
       "| <!--/--> | tapply.ebay.df.Competitive...ebay.df.currency..mean. &lt;dbl&gt; |\n",
       "|---|---|\n",
       "| EUR | 0.5515947 |\n",
       "| GBP | 0.6870748 |\n",
       "| US | 0.5193498 |\n",
       "\n"
      ],
      "text/plain": [
       "    tapply.ebay.df.Competitive...ebay.df.currency..mean.\n",
       "EUR 0.5515947                                           \n",
       "GBP 0.6870748                                           \n",
       "US  0.5193498                                           "
      ]
     },
     "metadata": {},
     "output_type": "display_data"
    },
    {
     "data": {
      "text/html": [
       "<table class=\"dataframe\">\n",
       "<caption>A data.frame: 7 × 1</caption>\n",
       "<thead>\n",
       "\t<tr><th></th><th scope=col>tapply.ebay.df.Competitive...ebay.df.endDay..mean.</th></tr>\n",
       "\t<tr><th></th><th scope=col>&lt;dbl&gt;</th></tr>\n",
       "</thead>\n",
       "<tbody>\n",
       "\t<tr><th scope=row>Fri</th><td>0.4668990</td></tr>\n",
       "\t<tr><th scope=row>Mon</th><td>0.6733577</td></tr>\n",
       "\t<tr><th scope=row>Sat</th><td>0.4273504</td></tr>\n",
       "\t<tr><th scope=row>Sun</th><td>0.4852071</td></tr>\n",
       "\t<tr><th scope=row>Thu</th><td>0.6039604</td></tr>\n",
       "\t<tr><th scope=row>Tue</th><td>0.5321637</td></tr>\n",
       "\t<tr><th scope=row>Wed</th><td>0.4800000</td></tr>\n",
       "</tbody>\n",
       "</table>\n"
      ],
      "text/latex": [
       "A data.frame: 7 × 1\n",
       "\\begin{tabular}{r|l}\n",
       "  & tapply.ebay.df.Competitive...ebay.df.endDay..mean.\\\\\n",
       "  & <dbl>\\\\\n",
       "\\hline\n",
       "\tFri & 0.4668990\\\\\n",
       "\tMon & 0.6733577\\\\\n",
       "\tSat & 0.4273504\\\\\n",
       "\tSun & 0.4852071\\\\\n",
       "\tThu & 0.6039604\\\\\n",
       "\tTue & 0.5321637\\\\\n",
       "\tWed & 0.4800000\\\\\n",
       "\\end{tabular}\n"
      ],
      "text/markdown": [
       "\n",
       "A data.frame: 7 × 1\n",
       "\n",
       "| <!--/--> | tapply.ebay.df.Competitive...ebay.df.endDay..mean. &lt;dbl&gt; |\n",
       "|---|---|\n",
       "| Fri | 0.4668990 |\n",
       "| Mon | 0.6733577 |\n",
       "| Sat | 0.4273504 |\n",
       "| Sun | 0.4852071 |\n",
       "| Thu | 0.6039604 |\n",
       "| Tue | 0.5321637 |\n",
       "| Wed | 0.4800000 |\n",
       "\n"
      ],
      "text/plain": [
       "    tapply.ebay.df.Competitive...ebay.df.endDay..mean.\n",
       "Fri 0.4668990                                         \n",
       "Mon 0.6733577                                         \n",
       "Sat 0.4273504                                         \n",
       "Sun 0.4852071                                         \n",
       "Thu 0.6039604                                         \n",
       "Tue 0.5321637                                         \n",
       "Wed 0.4800000                                         "
      ]
     },
     "metadata": {},
     "output_type": "display_data"
    },
    {
     "data": {
      "text/html": [
       "<table class=\"dataframe\">\n",
       "<caption>A data.frame: 5 × 1</caption>\n",
       "<thead>\n",
       "\t<tr><th></th><th scope=col>tapply.ebay.df.Competitive...ebay.df.Duration..mean.</th></tr>\n",
       "\t<tr><th></th><th scope=col>&lt;dbl&gt;</th></tr>\n",
       "</thead>\n",
       "<tbody>\n",
       "\t<tr><th scope=row>1</th><td>0.5217391</td></tr>\n",
       "\t<tr><th scope=row>3</th><td>0.4507042</td></tr>\n",
       "\t<tr><th scope=row>5</th><td>0.6866953</td></tr>\n",
       "\t<tr><th scope=row>7</th><td>0.4891417</td></tr>\n",
       "\t<tr><th scope=row>10</th><td>0.5445545</td></tr>\n",
       "</tbody>\n",
       "</table>\n"
      ],
      "text/latex": [
       "A data.frame: 5 × 1\n",
       "\\begin{tabular}{r|l}\n",
       "  & tapply.ebay.df.Competitive...ebay.df.Duration..mean.\\\\\n",
       "  & <dbl>\\\\\n",
       "\\hline\n",
       "\t1 & 0.5217391\\\\\n",
       "\t3 & 0.4507042\\\\\n",
       "\t5 & 0.6866953\\\\\n",
       "\t7 & 0.4891417\\\\\n",
       "\t10 & 0.5445545\\\\\n",
       "\\end{tabular}\n"
      ],
      "text/markdown": [
       "\n",
       "A data.frame: 5 × 1\n",
       "\n",
       "| <!--/--> | tapply.ebay.df.Competitive...ebay.df.Duration..mean. &lt;dbl&gt; |\n",
       "|---|---|\n",
       "| 1 | 0.5217391 |\n",
       "| 3 | 0.4507042 |\n",
       "| 5 | 0.6866953 |\n",
       "| 7 | 0.4891417 |\n",
       "| 10 | 0.5445545 |\n",
       "\n"
      ],
      "text/plain": [
       "   tapply.ebay.df.Competitive...ebay.df.Duration..mean.\n",
       "1  0.5217391                                           \n",
       "3  0.4507042                                           \n",
       "5  0.6866953                                           \n",
       "7  0.4891417                                           \n",
       "10 0.5445545                                           "
      ]
     },
     "metadata": {},
     "output_type": "display_data"
    }
   ],
   "source": [
    "data.frame(tapply(ebay.df$Competitive., ebay.df$Category, mean))\n",
    "data.frame(tapply(ebay.df$Competitive., ebay.df$currency, mean))\n",
    "data.frame(tapply(ebay.df$Competitive., ebay.df$endDay, mean))\n",
    "data.frame(tapply(ebay.df$Competitive., ebay.df$Duration, mean))"
   ]
  },
  {
   "cell_type": "markdown",
   "metadata": {},
   "source": [
    "The categories \"Business/Industrials\" and \"Computers\" have same average of the binary variable \"Competitive.\" This means that the percentage of competitive auctions in each of these two categories is equal. Hence we can combine the two categories into a single category called \"Computers.\" \n",
    "\n",
    "Similarly, the average of \"competitive\" for the categories \"Antique/Art/Craft\"and \"Collectibles\" are almost same. Therefore, we can combine them into a single category called \"collectibles\". The auction ending days \"Sunday\" and \"Friday\" have approximately equal averages for \"competitive\". So we can combine them into a single category called \"Sun_Fri\"."
   ]
  },
  {
   "cell_type": "code",
   "execution_count": 4,
   "metadata": {
    "colab": {
     "base_uri": "https://localhost:8080/",
     "height": 286
    },
    "id": "FDlYVun4ykR9",
    "outputId": "3c5e19ff-9a93-4d63-bced-9116f5a3cc69"
   },
   "outputs": [
    {
     "data": {
      "text/html": [
       "<style>\n",
       ".list-inline {list-style: none; margin:0; padding: 0}\n",
       ".list-inline>li {display: inline-block}\n",
       ".list-inline>li:not(:last-child)::after {content: \"\\00b7\"; padding: 0 .5ex}\n",
       "</style>\n",
       "<ol class=list-inline><li>'Category'</li><li>'currency'</li><li>'sellerRating'</li><li>'Duration'</li><li>'endDay'</li><li>'ClosePrice'</li><li>'OpenPrice'</li><li>'Competitive.'</li></ol>\n"
      ],
      "text/latex": [
       "\\begin{enumerate*}\n",
       "\\item 'Category'\n",
       "\\item 'currency'\n",
       "\\item 'sellerRating'\n",
       "\\item 'Duration'\n",
       "\\item 'endDay'\n",
       "\\item 'ClosePrice'\n",
       "\\item 'OpenPrice'\n",
       "\\item 'Competitive.'\n",
       "\\end{enumerate*}\n"
      ],
      "text/markdown": [
       "1. 'Category'\n",
       "2. 'currency'\n",
       "3. 'sellerRating'\n",
       "4. 'Duration'\n",
       "5. 'endDay'\n",
       "6. 'ClosePrice'\n",
       "7. 'OpenPrice'\n",
       "8. 'Competitive.'\n",
       "\n",
       "\n"
      ],
      "text/plain": [
       "[1] \"Category\"     \"currency\"     \"sellerRating\" \"Duration\"     \"endDay\"      \n",
       "[6] \"ClosePrice\"   \"OpenPrice\"    \"Competitive.\""
      ]
     },
     "metadata": {},
     "output_type": "display_data"
    }
   ],
   "source": [
    "names(ebay.df)\n",
    "ebay.df$endDay[ebay.df$endDay == \"Sun\"] <- \"Sun_Fri\"\n",
    "ebay.df$endDay[ebay.df$endDay == \"Fri\"] <- \"Sun_Fri\"\n",
    "ebay.df$Category[ebay.df$Category == \"Business/Industrial\"] <- \"Computer\"\n",
    "ebay.df$Category[ebay.df$Category == \"Antique/Art/Craft\"] <- \"Collectibles\"\n"
   ]
  },
  {
   "cell_type": "code",
   "execution_count": 5,
   "metadata": {},
   "outputs": [
    {
     "data": {
      "text/html": [
       "<table class=\"dataframe\">\n",
       "<caption>A data.frame: 6 × 8</caption>\n",
       "<thead>\n",
       "\t<tr><th></th><th scope=col>Category</th><th scope=col>currency</th><th scope=col>sellerRating</th><th scope=col>Duration</th><th scope=col>endDay</th><th scope=col>ClosePrice</th><th scope=col>OpenPrice</th><th scope=col>Competitive.</th></tr>\n",
       "\t<tr><th></th><th scope=col>&lt;chr&gt;</th><th scope=col>&lt;chr&gt;</th><th scope=col>&lt;int&gt;</th><th scope=col>&lt;int&gt;</th><th scope=col>&lt;chr&gt;</th><th scope=col>&lt;dbl&gt;</th><th scope=col>&lt;dbl&gt;</th><th scope=col>&lt;int&gt;</th></tr>\n",
       "</thead>\n",
       "<tbody>\n",
       "\t<tr><th scope=row>1</th><td>Music/Movie/Game</td><td>US</td><td>3249</td><td>5</td><td>Mon</td><td>0.01</td><td>0.01</td><td>0</td></tr>\n",
       "\t<tr><th scope=row>2</th><td>Music/Movie/Game</td><td>US</td><td>3249</td><td>5</td><td>Mon</td><td>0.01</td><td>0.01</td><td>0</td></tr>\n",
       "\t<tr><th scope=row>3</th><td>Music/Movie/Game</td><td>US</td><td>3249</td><td>5</td><td>Mon</td><td>0.01</td><td>0.01</td><td>0</td></tr>\n",
       "\t<tr><th scope=row>4</th><td>Music/Movie/Game</td><td>US</td><td>3249</td><td>5</td><td>Mon</td><td>0.01</td><td>0.01</td><td>0</td></tr>\n",
       "\t<tr><th scope=row>5</th><td>Music/Movie/Game</td><td>US</td><td>3249</td><td>5</td><td>Mon</td><td>0.01</td><td>0.01</td><td>0</td></tr>\n",
       "\t<tr><th scope=row>6</th><td>Music/Movie/Game</td><td>US</td><td>3249</td><td>5</td><td>Mon</td><td>0.01</td><td>0.01</td><td>0</td></tr>\n",
       "</tbody>\n",
       "</table>\n"
      ],
      "text/latex": [
       "A data.frame: 6 × 8\n",
       "\\begin{tabular}{r|llllllll}\n",
       "  & Category & currency & sellerRating & Duration & endDay & ClosePrice & OpenPrice & Competitive.\\\\\n",
       "  & <chr> & <chr> & <int> & <int> & <chr> & <dbl> & <dbl> & <int>\\\\\n",
       "\\hline\n",
       "\t1 & Music/Movie/Game & US & 3249 & 5 & Mon & 0.01 & 0.01 & 0\\\\\n",
       "\t2 & Music/Movie/Game & US & 3249 & 5 & Mon & 0.01 & 0.01 & 0\\\\\n",
       "\t3 & Music/Movie/Game & US & 3249 & 5 & Mon & 0.01 & 0.01 & 0\\\\\n",
       "\t4 & Music/Movie/Game & US & 3249 & 5 & Mon & 0.01 & 0.01 & 0\\\\\n",
       "\t5 & Music/Movie/Game & US & 3249 & 5 & Mon & 0.01 & 0.01 & 0\\\\\n",
       "\t6 & Music/Movie/Game & US & 3249 & 5 & Mon & 0.01 & 0.01 & 0\\\\\n",
       "\\end{tabular}\n"
      ],
      "text/markdown": [
       "\n",
       "A data.frame: 6 × 8\n",
       "\n",
       "| <!--/--> | Category &lt;chr&gt; | currency &lt;chr&gt; | sellerRating &lt;int&gt; | Duration &lt;int&gt; | endDay &lt;chr&gt; | ClosePrice &lt;dbl&gt; | OpenPrice &lt;dbl&gt; | Competitive. &lt;int&gt; |\n",
       "|---|---|---|---|---|---|---|---|---|\n",
       "| 1 | Music/Movie/Game | US | 3249 | 5 | Mon | 0.01 | 0.01 | 0 |\n",
       "| 2 | Music/Movie/Game | US | 3249 | 5 | Mon | 0.01 | 0.01 | 0 |\n",
       "| 3 | Music/Movie/Game | US | 3249 | 5 | Mon | 0.01 | 0.01 | 0 |\n",
       "| 4 | Music/Movie/Game | US | 3249 | 5 | Mon | 0.01 | 0.01 | 0 |\n",
       "| 5 | Music/Movie/Game | US | 3249 | 5 | Mon | 0.01 | 0.01 | 0 |\n",
       "| 6 | Music/Movie/Game | US | 3249 | 5 | Mon | 0.01 | 0.01 | 0 |\n",
       "\n"
      ],
      "text/plain": [
       "  Category         currency sellerRating Duration endDay ClosePrice OpenPrice\n",
       "1 Music/Movie/Game US       3249         5        Mon    0.01       0.01     \n",
       "2 Music/Movie/Game US       3249         5        Mon    0.01       0.01     \n",
       "3 Music/Movie/Game US       3249         5        Mon    0.01       0.01     \n",
       "4 Music/Movie/Game US       3249         5        Mon    0.01       0.01     \n",
       "5 Music/Movie/Game US       3249         5        Mon    0.01       0.01     \n",
       "6 Music/Movie/Game US       3249         5        Mon    0.01       0.01     \n",
       "  Competitive.\n",
       "1 0           \n",
       "2 0           \n",
       "3 0           \n",
       "4 0           \n",
       "5 0           \n",
       "6 0           "
      ]
     },
     "metadata": {},
     "output_type": "display_data"
    }
   ],
   "source": [
    "head(ebay.df)"
   ]
  },
  {
   "cell_type": "markdown",
   "metadata": {},
   "source": [
    "Split the data into training (60%) and validation (40%) datasets. Run a logistic model with all predictors with a **cutoff of 0.5**."
   ]
  },
  {
   "cell_type": "code",
   "execution_count": 6,
   "metadata": {
    "colab": {
     "base_uri": "https://localhost:8080/",
     "height": 286
    },
    "id": "vFefpERuykR9",
    "outputId": "735e53d2-4aa2-42d4-e900-2d79112e0c67"
   },
   "outputs": [
    {
     "name": "stderr",
     "output_type": "stream",
     "text": [
      "Warning message:\n",
      "“glm.fit: fitted probabilities numerically 0 or 1 occurred”\n"
     ]
    },
    {
     "data": {
      "text/plain": [
       "\n",
       "Call:\n",
       "glm(formula = Competitive. ~ ., family = \"binomial\", data = train.df)\n",
       "\n",
       "Deviance Residuals: \n",
       "   Min      1Q  Median      3Q     Max  \n",
       "-6.813  -0.919   0.003   0.882   2.380  \n",
       "\n",
       "Coefficients:\n",
       "                               Estimate Std. Error z value             Pr(>|z|)\n",
       "(Intercept)                  -0.0684576  0.5010851   -0.14               0.8913\n",
       "CategoryBooks                -0.1875809  0.5045616   -0.37               0.7101\n",
       "CategoryClothing/Accessories -0.7640455  0.4900804   -1.56               0.1190\n",
       "CategoryCoins/Stamps         -0.6620383  0.6405184   -1.03               0.3013\n",
       "CategoryCollectibles          0.6128959  0.3487541    1.76               0.0789\n",
       "CategoryComputer              0.2877405  0.5093094    0.56               0.5721\n",
       "CategoryElectronics           0.6004863  0.5599910    1.07               0.2836\n",
       "CategoryEverythingElse       -1.4848764  1.1249556   -1.32               0.1869\n",
       "CategoryHealth/Beauty        -1.5777915  0.6095667   -2.59               0.0096\n",
       "CategoryHome/Garden           0.2221810  0.4450222    0.50               0.6176\n",
       "CategoryJewelry              -0.0178390  0.4521957   -0.04               0.9685\n",
       "CategoryMusic/Movie/Game      0.4764288  0.3509678    1.36               0.1746\n",
       "CategoryPhotography           0.3055007  1.1127369    0.27               0.7837\n",
       "CategoryPottery/Glass        -0.1721011  0.8091444   -0.21               0.8316\n",
       "CategorySportingGoods         0.2919242  0.4653412    0.63               0.5304\n",
       "CategoryToys/Hobbies          0.7684393  0.3573958    2.15               0.0315\n",
       "currencyGBP                   1.6994722  0.5350996    3.18               0.0015\n",
       "currencyUS                    0.1847873  0.2183158    0.85               0.3973\n",
       "sellerRating                 -0.0000392  0.0000164   -2.39               0.0170\n",
       "Duration                     -0.0032030  0.0436085   -0.07               0.9414\n",
       "endDaySat                    -1.1856262  0.2309848   -5.13           0.00000029\n",
       "endDaySun_Fri                -0.5651575  0.1960152   -2.88               0.0039\n",
       "endDayThu                    -1.3680613  0.4951106   -2.76               0.0057\n",
       "endDayTue                    -0.6157027  0.2882909   -2.14               0.0327\n",
       "endDayWed                    -0.9015452  0.4394919   -2.05               0.0402\n",
       "ClosePrice                    0.0956000  0.0105914    9.03 < 0.0000000000000002\n",
       "OpenPrice                    -0.1119346  0.0122464   -9.14 < 0.0000000000000002\n",
       "                                \n",
       "(Intercept)                     \n",
       "CategoryBooks                   \n",
       "CategoryClothing/Accessories    \n",
       "CategoryCoins/Stamps            \n",
       "CategoryCollectibles         .  \n",
       "CategoryComputer                \n",
       "CategoryElectronics             \n",
       "CategoryEverythingElse          \n",
       "CategoryHealth/Beauty        ** \n",
       "CategoryHome/Garden             \n",
       "CategoryJewelry                 \n",
       "CategoryMusic/Movie/Game        \n",
       "CategoryPhotography             \n",
       "CategoryPottery/Glass           \n",
       "CategorySportingGoods           \n",
       "CategoryToys/Hobbies         *  \n",
       "currencyGBP                  ** \n",
       "currencyUS                      \n",
       "sellerRating                 *  \n",
       "Duration                        \n",
       "endDaySat                    ***\n",
       "endDaySun_Fri                ** \n",
       "endDayThu                    ** \n",
       "endDayTue                    *  \n",
       "endDayWed                    *  \n",
       "ClosePrice                   ***\n",
       "OpenPrice                    ***\n",
       "---\n",
       "Signif. codes:  0 ‘***’ 0.001 ‘**’ 0.01 ‘*’ 0.05 ‘.’ 0.1 ‘ ’ 1\n",
       "\n",
       "(Dispersion parameter for binomial family taken to be 1)\n",
       "\n",
       "    Null deviance: 1632.7  on 1182  degrees of freedom\n",
       "Residual deviance: 1217.0  on 1156  degrees of freedom\n",
       "AIC: 1271\n",
       "\n",
       "Number of Fisher Scoring iterations: 8\n"
      ]
     },
     "metadata": {},
     "output_type": "display_data"
    }
   ],
   "source": [
    "#data partition\n",
    "ntotal <- length(ebay.df$Competitive.)\n",
    "ntrain <- round(ntotal * 0.6)\n",
    "nvalid <- ntotal - ntrain\n",
    "set.seed(202)  # Seed of random number generator for reproducibility.\n",
    "ntrain.index <- sort(sample(ntotal, ntrain))  # Sample rows randomly.\n",
    "train.df <- ebay.df[ntrain.index, ]\n",
    "valid.df <- ebay.df[-ntrain.index, ]\n",
    "options(scipen = 999, digits = 4)\n",
    "\n",
    "#logistic regression using all the variables\n",
    "reg <- glm(Competitive. ~ ., data = train.df, family = \"binomial\")\n",
    "summary(reg)\n"
   ]
  },
  {
   "cell_type": "markdown",
   "metadata": {},
   "source": [
    "Now let's run the predictions in the validation data. And after, access the accuracy buiduilg the **confusion matrix**."
   ]
  },
  {
   "cell_type": "code",
   "execution_count": 7,
   "metadata": {
    "id": "XMsMlU1sykR-"
   },
   "outputs": [
    {
     "data": {
      "text/html": [
       "<style>\n",
       ".dl-inline {width: auto; margin:0; padding: 0}\n",
       ".dl-inline>dt, .dl-inline>dd {float: none; width: auto; display: inline-block}\n",
       ".dl-inline>dt::after {content: \":\\0020\"; padding-right: .5ex}\n",
       ".dl-inline>dt:not(:first-of-type) {padding-left: .5ex}\n",
       "</style><dl class=dl-inline><dt>3</dt><dd>0.610472802186797</dd><dt>4</dt><dd>0.610472802186797</dd><dt>7</dt><dd>0.610472802186797</dd><dt>8</dt><dd>0.610472802186797</dd><dt>9</dt><dd>0.610472802186797</dd><dt>10</dt><dd>0.610472802186797</dd></dl>\n"
      ],
      "text/latex": [
       "\\begin{description*}\n",
       "\\item[3] 0.610472802186797\n",
       "\\item[4] 0.610472802186797\n",
       "\\item[7] 0.610472802186797\n",
       "\\item[8] 0.610472802186797\n",
       "\\item[9] 0.610472802186797\n",
       "\\item[10] 0.610472802186797\n",
       "\\end{description*}\n"
      ],
      "text/markdown": [
       "3\n",
       ":   0.6104728021867974\n",
       ":   0.6104728021867977\n",
       ":   0.6104728021867978\n",
       ":   0.6104728021867979\n",
       ":   0.61047280218679710\n",
       ":   0.610472802186797\n",
       "\n"
      ],
      "text/plain": [
       "     3      4      7      8      9     10 \n",
       "0.6105 0.6105 0.6105 0.6105 0.6105 0.6105 "
      ]
     },
     "metadata": {},
     "output_type": "display_data"
    }
   ],
   "source": [
    "# predictions on validation data\n",
    "pred <- predict(reg, newdata = valid.df, type = \"response\")\n",
    "head(pred)"
   ]
  },
  {
   "cell_type": "code",
   "execution_count": 8,
   "metadata": {
    "id": "nr6H0QycykR-"
   },
   "outputs": [
    {
     "data": {
      "text/plain": [
       "Confusion Matrix and Statistics\n",
       "\n",
       "          Reference\n",
       "Prediction   0   1\n",
       "         0 281  85\n",
       "         1  80 343\n",
       "                                             \n",
       "               Accuracy : 0.791              \n",
       "                 95% CI : (0.761, 0.819)     \n",
       "    No Information Rate : 0.542              \n",
       "    P-Value [Acc > NIR] : <0.0000000000000002\n",
       "                                             \n",
       "                  Kappa : 0.579              \n",
       "                                             \n",
       " Mcnemar's Test P-Value : 0.755              \n",
       "                                             \n",
       "            Sensitivity : 0.801              \n",
       "            Specificity : 0.778              \n",
       "         Pos Pred Value : 0.811              \n",
       "         Neg Pred Value : 0.768              \n",
       "             Prevalence : 0.542              \n",
       "         Detection Rate : 0.435              \n",
       "   Detection Prevalence : 0.536              \n",
       "      Balanced Accuracy : 0.790              \n",
       "                                             \n",
       "       'Positive' Class : 1                  \n",
       "                                             "
      ]
     },
     "metadata": {},
     "output_type": "display_data"
    }
   ],
   "source": [
    "# confusion matrix\n",
    "confusionMatrix(factor(ifelse(pred > 0.5, 1, 0)), \n",
    "                factor(valid.df$Competitive.), positive = \"1\")"
   ]
  },
  {
   "cell_type": "markdown",
   "metadata": {
    "id": "wsp085omykR_"
   },
   "source": [
    "If we want to predict at the start of an auction whether it will be competitive, we cannot use the information on the `closing price`. Let's then build a logistic model **with all predictors as above, excluding price**. How does this model compare to the full model with respect to predictive accuracy?"
   ]
  },
  {
   "cell_type": "code",
   "execution_count": 9,
   "metadata": {
    "colab": {
     "base_uri": "https://localhost:8080/",
     "height": 225
    },
    "id": "Ly_84T6VykR_",
    "outputId": "cd7dabfe-7f42-4cbc-b9ee-8aa52884f48d"
   },
   "outputs": [
    {
     "data": {
      "text/html": [
       "<style>\n",
       ".dl-inline {width: auto; margin:0; padding: 0}\n",
       ".dl-inline>dt, .dl-inline>dd {float: none; width: auto; display: inline-block}\n",
       ".dl-inline>dt::after {content: \":\\0020\"; padding-right: .5ex}\n",
       ".dl-inline>dt:not(:first-of-type) {padding-left: .5ex}\n",
       "</style><dl class=dl-inline><dt>3</dt><dd>0.699251694593444</dd><dt>4</dt><dd>0.699251694593444</dd><dt>7</dt><dd>0.699251694593444</dd><dt>8</dt><dd>0.699251694593444</dd><dt>9</dt><dd>0.699251694593444</dd><dt>10</dt><dd>0.699251694593444</dd></dl>\n"
      ],
      "text/latex": [
       "\\begin{description*}\n",
       "\\item[3] 0.699251694593444\n",
       "\\item[4] 0.699251694593444\n",
       "\\item[7] 0.699251694593444\n",
       "\\item[8] 0.699251694593444\n",
       "\\item[9] 0.699251694593444\n",
       "\\item[10] 0.699251694593444\n",
       "\\end{description*}\n"
      ],
      "text/markdown": [
       "3\n",
       ":   0.6992516945934444\n",
       ":   0.6992516945934447\n",
       ":   0.6992516945934448\n",
       ":   0.6992516945934449\n",
       ":   0.69925169459344410\n",
       ":   0.699251694593444\n",
       "\n"
      ],
      "text/plain": [
       "     3      4      7      8      9     10 \n",
       "0.6993 0.6993 0.6993 0.6993 0.6993 0.6993 "
      ]
     },
     "metadata": {},
     "output_type": "display_data"
    },
    {
     "data": {
      "text/plain": [
       "Confusion Matrix and Statistics\n",
       "\n",
       "          Reference\n",
       "Prediction   0   1\n",
       "         0 201 116\n",
       "         1 160 312\n",
       "                                        \n",
       "               Accuracy : 0.65          \n",
       "                 95% CI : (0.616, 0.683)\n",
       "    No Information Rate : 0.542         \n",
       "    P-Value [Acc > NIR] : 0.000000000535\n",
       "                                        \n",
       "                  Kappa : 0.289         \n",
       "                                        \n",
       " Mcnemar's Test P-Value : 0.00965       \n",
       "                                        \n",
       "            Sensitivity : 0.729         \n",
       "            Specificity : 0.557         \n",
       "         Pos Pred Value : 0.661         \n",
       "         Neg Pred Value : 0.634         \n",
       "             Prevalence : 0.542         \n",
       "         Detection Rate : 0.395         \n",
       "   Detection Prevalence : 0.598         \n",
       "      Balanced Accuracy : 0.643         \n",
       "                                        \n",
       "       'Positive' Class : 1             \n",
       "                                        "
      ]
     },
     "metadata": {},
     "output_type": "display_data"
    }
   ],
   "source": [
    "#logistic regresssion excluding closing price variable\n",
    "reg <- glm(Competitive. ~ ., data = train.df[-6], family = \"binomial\")\n",
    "\n",
    "#predictions on validation data\n",
    "pred <- predict(reg, newdata = valid.df, type = \"response\")\n",
    "head(pred)\n",
    "\n",
    "#confusion matrix\n",
    "confusionMatrix(factor(ifelse(pred > 0.5, 1, 0)), \n",
    "                factor(valid.df$Competitive.), positive = \"1\")"
   ]
  },
  {
   "cell_type": "markdown",
   "metadata": {
    "colab": {
     "base_uri": "https://localhost:8080/"
    },
    "id": "Li69U2l2ykSA",
    "outputId": "5120a20c-e96f-4ef2-cc7c-4730acd30d96"
   },
   "source": [
    "##### Conclusion:\n",
    "The overall error rate for the full model (20.9%) is much lower than that for the model excluding `close price` (35%). Hence the model excluding `close price` has lower predictive accuracy compared to the full model."
   ]
  },
  {
   "cell_type": "markdown",
   "metadata": {
    "id": "IKvz4LoRykSA"
   },
   "source": [
    "Let's plot the tree, this is one of the few times we make use of the R-base graphics"
   ]
  },
  {
   "cell_type": "markdown",
   "metadata": {
    "id": "XtXdGtC7ykSF"
   },
   "source": [
    "### Exercise 2: Stepwise logistic regression"
   ]
  },
  {
   "cell_type": "markdown",
   "metadata": {
    "id": "vwG5PUCoykSF"
   },
   "source": [
    "Use stepwise selection (use function `step()` in the `stats` package or function `stepAIC()` in the `MASS` package) to find the model with the best fit to the training data. Which predictors are used?"
   ]
  },
  {
   "cell_type": "markdown",
   "metadata": {},
   "source": [
    "Aplying the function `stepAIC()` from the package `MASS` to perform a stepwise logistic regression. "
   ]
  },
  {
   "cell_type": "code",
   "execution_count": 10,
   "metadata": {
    "colab": {
     "base_uri": "https://localhost:8080/",
     "height": 1000
    },
    "id": "SOgOwpi9ykSF",
    "nbgrader": {
     "grade": false,
     "grade_id": "cell-0d27a817992100d7",
     "locked": false,
     "schema_version": 1,
     "solution": true
    },
    "outputId": "2082a6c7-f845-4be5-ce9e-2083755a2990",
    "scrolled": false
   },
   "outputs": [
    {
     "name": "stdout",
     "output_type": "stream",
     "text": [
      "Start:  AIC=1521\n",
      "Competitive. ~ Category + currency + sellerRating + Duration + \n",
      "    endDay + OpenPrice\n",
      "\n",
      "               Df Deviance  AIC\n",
      "- OpenPrice     1     1469 1519\n",
      "<none>                1469 1521\n",
      "- Duration      1     1474 1524\n",
      "- currency      2     1482 1530\n",
      "- sellerRating  1     1483 1533\n",
      "- endDay        5     1525 1567\n",
      "- Category     15     1561 1583\n",
      "\n",
      "Step:  AIC=1519\n",
      "Competitive. ~ Category + currency + sellerRating + Duration + \n",
      "    endDay\n",
      "\n",
      "               Df Deviance  AIC\n",
      "<none>                1469 1519\n",
      "+ OpenPrice     1     1469 1521\n",
      "- Duration      1     1474 1522\n",
      "- currency      2     1483 1529\n",
      "- sellerRating  1     1484 1532\n",
      "- endDay        5     1526 1566\n",
      "- Category     15     1567 1587\n"
     ]
    },
    {
     "data": {
      "text/plain": [
       "\n",
       "Call:\n",
       "glm(formula = Competitive. ~ Category + currency + sellerRating + \n",
       "    Duration + endDay, family = \"binomial\", data = train.df[-6])\n",
       "\n",
       "Deviance Residuals: \n",
       "   Min      1Q  Median      3Q     Max  \n",
       "-1.979  -1.080   0.699   1.018   2.326  \n",
       "\n",
       "Coefficients:\n",
       "                               Estimate Std. Error z value       Pr(>|z|)    \n",
       "(Intercept)                   1.0435392  0.4064598    2.57        0.01025 *  \n",
       "CategoryBooks                -0.0001252  0.4235101    0.00        0.99976    \n",
       "CategoryClothing/Accessories  0.5576782  0.3667870    1.52        0.12840    \n",
       "CategoryCoins/Stamps         -0.8013464  0.5520407   -1.45        0.14661    \n",
       "CategoryCollectibles          1.0807095  0.2597445    4.16 0.000031732454 ***\n",
       "CategoryComputer              1.0342263  0.4125733    2.51        0.01218 *  \n",
       "CategoryElectronics           1.3066418  0.4420391    2.96        0.00312 ** \n",
       "CategoryEverythingElse       -1.5803968  1.1050591   -1.43        0.15267    \n",
       "CategoryHealth/Beauty        -1.5345874  0.5375881   -2.85        0.00431 ** \n",
       "CategoryHome/Garden           0.8144780  0.3604949    2.26        0.02386 *  \n",
       "CategoryJewelry               0.1580718  0.3889220    0.41        0.68442    \n",
       "CategoryMusic/Movie/Game      0.5104741  0.2691387    1.90        0.05787 .  \n",
       "CategoryPhotography           1.3421670  0.8851661    1.52        0.12945    \n",
       "CategoryPottery/Glass        -0.3151138  0.6618639   -0.48        0.63400    \n",
       "CategorySportingGoods         1.6810970  0.3666760    4.58 0.000004546541 ***\n",
       "CategoryToys/Hobbies          0.9674169  0.2812344    3.44        0.00058 ***\n",
       "currencyGBP                   1.6007954  0.4643719    3.45        0.00057 ***\n",
       "currencyUS                   -0.1290081  0.1927364   -0.67        0.50327    \n",
       "sellerRating                 -0.0000519  0.0000140   -3.72        0.00020 ***\n",
       "Duration                     -0.0841031  0.0371896   -2.26        0.02373 *  \n",
       "endDaySat                    -1.3681042  0.2077648   -6.58 0.000000000046 ***\n",
       "endDaySun_Fri                -0.9782467  0.1809211   -5.41 0.000000064077 ***\n",
       "endDayThu                    -1.6965571  0.4154427   -4.08 0.000044317969 ***\n",
       "endDayTue                    -0.8145414  0.2582039   -3.15        0.00161 ** \n",
       "endDayWed                    -0.8220766  0.3795056   -2.17        0.03030 *  \n",
       "---\n",
       "Signif. codes:  0 ‘***’ 0.001 ‘**’ 0.01 ‘*’ 0.05 ‘.’ 0.1 ‘ ’ 1\n",
       "\n",
       "(Dispersion parameter for binomial family taken to be 1)\n",
       "\n",
       "    Null deviance: 1632.7  on 1182  degrees of freedom\n",
       "Residual deviance: 1469.3  on 1158  degrees of freedom\n",
       "AIC: 1519\n",
       "\n",
       "Number of Fisher Scoring iterations: 4\n"
      ]
     },
     "metadata": {},
     "output_type": "display_data"
    }
   ],
   "source": [
    "### BEGIN SOLUTION\n",
    "\n",
    "# stepwise logistic regression using the function stepAIC() from the package MASS \n",
    "library(MASS)\n",
    "\n",
    "stepwise <- stepAIC(reg, direction = \"both\")\n",
    "summary(stepwise)\n",
    "\n",
    "### END SOLUTION"
   ]
  },
  {
   "cell_type": "markdown",
   "metadata": {},
   "source": [
    "#### Result:\n",
    "\n",
    "- Using the stepwise method, the \"best model\" contains 24 predictors (as shown in the table above). For this model AIC=1519. "
   ]
  },
  {
   "cell_type": "markdown",
   "metadata": {
    "id": "e9lduZNDykSF"
   },
   "source": [
    "Use **stepwise selection** to access the **new predictive error rate** (use the **validation data**). Did the accuracy increased?"
   ]
  },
  {
   "cell_type": "code",
   "execution_count": 11,
   "metadata": {},
   "outputs": [],
   "source": [
    "#logistic regresssion using the selection from the stepwise process\n",
    "reg_stepwise <- glm(Competitive. ~ Category + currency + sellerRating + Duration + endDay, \n",
    "                         data = train.df[-6], family = \"binomial\")\n"
   ]
  },
  {
   "cell_type": "code",
   "execution_count": 12,
   "metadata": {},
   "outputs": [
    {
     "data": {
      "text/plain": [
       "\n",
       "Call:\n",
       "glm(formula = Competitive. ~ Category + currency + sellerRating + \n",
       "    Duration + endDay, family = \"binomial\", data = train.df[-6])\n",
       "\n",
       "Deviance Residuals: \n",
       "   Min      1Q  Median      3Q     Max  \n",
       "-1.979  -1.080   0.699   1.018   2.326  \n",
       "\n",
       "Coefficients:\n",
       "                               Estimate Std. Error z value       Pr(>|z|)    \n",
       "(Intercept)                   1.0435392  0.4064598    2.57        0.01025 *  \n",
       "CategoryBooks                -0.0001252  0.4235101    0.00        0.99976    \n",
       "CategoryClothing/Accessories  0.5576782  0.3667870    1.52        0.12840    \n",
       "CategoryCoins/Stamps         -0.8013464  0.5520407   -1.45        0.14661    \n",
       "CategoryCollectibles          1.0807095  0.2597445    4.16 0.000031732454 ***\n",
       "CategoryComputer              1.0342263  0.4125733    2.51        0.01218 *  \n",
       "CategoryElectronics           1.3066418  0.4420391    2.96        0.00312 ** \n",
       "CategoryEverythingElse       -1.5803968  1.1050591   -1.43        0.15267    \n",
       "CategoryHealth/Beauty        -1.5345874  0.5375881   -2.85        0.00431 ** \n",
       "CategoryHome/Garden           0.8144780  0.3604949    2.26        0.02386 *  \n",
       "CategoryJewelry               0.1580718  0.3889220    0.41        0.68442    \n",
       "CategoryMusic/Movie/Game      0.5104741  0.2691387    1.90        0.05787 .  \n",
       "CategoryPhotography           1.3421670  0.8851661    1.52        0.12945    \n",
       "CategoryPottery/Glass        -0.3151138  0.6618639   -0.48        0.63400    \n",
       "CategorySportingGoods         1.6810970  0.3666760    4.58 0.000004546541 ***\n",
       "CategoryToys/Hobbies          0.9674169  0.2812344    3.44        0.00058 ***\n",
       "currencyGBP                   1.6007954  0.4643719    3.45        0.00057 ***\n",
       "currencyUS                   -0.1290081  0.1927364   -0.67        0.50327    \n",
       "sellerRating                 -0.0000519  0.0000140   -3.72        0.00020 ***\n",
       "Duration                     -0.0841031  0.0371896   -2.26        0.02373 *  \n",
       "endDaySat                    -1.3681042  0.2077648   -6.58 0.000000000046 ***\n",
       "endDaySun_Fri                -0.9782467  0.1809211   -5.41 0.000000064077 ***\n",
       "endDayThu                    -1.6965571  0.4154427   -4.08 0.000044317969 ***\n",
       "endDayTue                    -0.8145414  0.2582039   -3.15        0.00161 ** \n",
       "endDayWed                    -0.8220766  0.3795056   -2.17        0.03030 *  \n",
       "---\n",
       "Signif. codes:  0 ‘***’ 0.001 ‘**’ 0.01 ‘*’ 0.05 ‘.’ 0.1 ‘ ’ 1\n",
       "\n",
       "(Dispersion parameter for binomial family taken to be 1)\n",
       "\n",
       "    Null deviance: 1632.7  on 1182  degrees of freedom\n",
       "Residual deviance: 1469.3  on 1158  degrees of freedom\n",
       "AIC: 1519\n",
       "\n",
       "Number of Fisher Scoring iterations: 4\n"
      ]
     },
     "metadata": {},
     "output_type": "display_data"
    }
   ],
   "source": [
    "summary(reg_stepwise)"
   ]
  },
  {
   "cell_type": "code",
   "execution_count": 13,
   "metadata": {},
   "outputs": [
    {
     "data": {
      "text/plain": [
       "Confusion Matrix and Statistics\n",
       "\n",
       "          Reference\n",
       "Prediction   0   1\n",
       "         0 310 153\n",
       "         1 235 485\n",
       "                                              \n",
       "               Accuracy : 0.672               \n",
       "                 95% CI : (0.644, 0.699)      \n",
       "    No Information Rate : 0.539               \n",
       "    P-Value [Acc > NIR] : < 0.0000000000000002\n",
       "                                              \n",
       "                  Kappa : 0.333               \n",
       "                                              \n",
       " Mcnemar's Test P-Value : 0.0000392           \n",
       "                                              \n",
       "            Sensitivity : 0.760               \n",
       "            Specificity : 0.569               \n",
       "         Pos Pred Value : 0.674               \n",
       "         Neg Pred Value : 0.670               \n",
       "             Prevalence : 0.539               \n",
       "         Detection Rate : 0.410               \n",
       "   Detection Prevalence : 0.609               \n",
       "      Balanced Accuracy : 0.664               \n",
       "                                              \n",
       "       'Positive' Class : 1                   \n",
       "                                              "
      ]
     },
     "metadata": {},
     "output_type": "display_data"
    }
   ],
   "source": [
    "# predictive error rate using stepwise selection (training set)\n",
    "pred <- predict(reg_stepwise, data = train.df, type = \"response\")\n",
    "\n",
    "#confusion matrix\n",
    "confusionMatrix(factor(ifelse(pred > 0.5, 1, 0)), \n",
    "                factor(train.df$Competitive.), positive = \"1\")"
   ]
  },
  {
   "cell_type": "code",
   "execution_count": 14,
   "metadata": {},
   "outputs": [
    {
     "data": {
      "text/plain": [
       "Confusion Matrix and Statistics\n",
       "\n",
       "          Reference\n",
       "Prediction   0   1\n",
       "         0 200 116\n",
       "         1 161 312\n",
       "                                        \n",
       "               Accuracy : 0.649         \n",
       "                 95% CI : (0.614, 0.682)\n",
       "    No Information Rate : 0.542         \n",
       "    P-Value [Acc > NIR] : 0.000000000843\n",
       "                                        \n",
       "                  Kappa : 0.286         \n",
       "                                        \n",
       " Mcnemar's Test P-Value : 0.0082        \n",
       "                                        \n",
       "            Sensitivity : 0.729         \n",
       "            Specificity : 0.554         \n",
       "         Pos Pred Value : 0.660         \n",
       "         Neg Pred Value : 0.633         \n",
       "             Prevalence : 0.542         \n",
       "         Detection Rate : 0.395         \n",
       "   Detection Prevalence : 0.599         \n",
       "      Balanced Accuracy : 0.641         \n",
       "                                        \n",
       "       'Positive' Class : 1             \n",
       "                                        "
      ]
     },
     "metadata": {},
     "output_type": "display_data"
    }
   ],
   "source": [
    "#predictive error rate using stepwise selection (Validation set)\n",
    "pred <- predict(reg_stepwise, newdata = valid.df, type = \"response\")\n",
    "\n",
    "#confusion matrix\n",
    "confusionMatrix(factor(ifelse(pred > 0.5, 1, 0)), \n",
    "                factor(valid.df$Competitive.), positive = \"1\")\n"
   ]
  },
  {
   "cell_type": "code",
   "execution_count": null,
   "metadata": {},
   "outputs": [],
   "source": []
  }
 ],
 "metadata": {
  "celltoolbar": "Create Assignment",
  "colab": {
   "collapsed_sections": [],
   "name": "workshop11_2021_solution.ipynb",
   "provenance": []
  },
  "kernelspec": {
   "display_name": "R",
   "language": "R",
   "name": "ir"
  },
  "language_info": {
   "codemirror_mode": "r",
   "file_extension": ".r",
   "mimetype": "text/x-r-source",
   "name": "R",
   "pygments_lexer": "r",
   "version": "4.1.2"
  }
 },
 "nbformat": 4,
 "nbformat_minor": 1
}
