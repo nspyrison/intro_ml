{
 "cells": [
  {
   "cell_type": "code",
   "execution_count": 1,
   "metadata": {
    "colab": {
     "base_uri": "https://localhost:8080/"
    },
    "id": "e0tD6lwbykR0",
    "outputId": "c96b00f1-b789-4bee-b8d2-8f2386404534"
   },
   "outputs": [
    {
     "name": "stderr",
     "output_type": "stream",
     "text": [
      "Loading required package: tidyverse\n",
      "\n",
      "── \u001b[1mAttaching packages\u001b[22m ─────────────────────────────────────── tidyverse 1.3.1 ──\n",
      "\n",
      "\u001b[32m✔\u001b[39m \u001b[34mggplot2\u001b[39m 3.3.5     \u001b[32m✔\u001b[39m \u001b[34mpurrr  \u001b[39m 0.3.4\n",
      "\u001b[32m✔\u001b[39m \u001b[34mtibble \u001b[39m 3.1.6     \u001b[32m✔\u001b[39m \u001b[34mdplyr  \u001b[39m 1.0.8\n",
      "\u001b[32m✔\u001b[39m \u001b[34mtidyr  \u001b[39m 1.2.0     \u001b[32m✔\u001b[39m \u001b[34mstringr\u001b[39m 1.4.0\n",
      "\u001b[32m✔\u001b[39m \u001b[34mreadr  \u001b[39m 2.1.2     \u001b[32m✔\u001b[39m \u001b[34mforcats\u001b[39m 0.5.1\n",
      "\n",
      "── \u001b[1mConflicts\u001b[22m ────────────────────────────────────────── tidyverse_conflicts() ──\n",
      "\u001b[31m✖\u001b[39m \u001b[34mdplyr\u001b[39m::\u001b[32mfilter()\u001b[39m masks \u001b[34mstats\u001b[39m::filter()\n",
      "\u001b[31m✖\u001b[39m \u001b[34mdplyr\u001b[39m::\u001b[32mlag()\u001b[39m    masks \u001b[34mstats\u001b[39m::lag()\n",
      "\n",
      "Loading required package: repr\n",
      "\n",
      "Loading required package: rpart\n",
      "\n",
      "Loading required package: rpart.plot\n",
      "\n",
      "Loading required package: caret\n",
      "\n",
      "Loading required package: lattice\n",
      "\n",
      "\n",
      "Attaching package: ‘caret’\n",
      "\n",
      "\n",
      "The following object is masked from ‘package:purrr’:\n",
      "\n",
      "    lift\n",
      "\n",
      "\n",
      "Loading required package: precrec\n",
      "\n",
      "Loading required package: e1071\n",
      "\n",
      "Loading required package: ISLR\n",
      "\n",
      "Loading required package: Metrics\n",
      "\n",
      "\n",
      "Attaching package: ‘Metrics’\n",
      "\n",
      "\n",
      "The following object is masked from ‘package:precrec’:\n",
      "\n",
      "    auc\n",
      "\n",
      "\n",
      "The following objects are masked from ‘package:caret’:\n",
      "\n",
      "    precision, recall\n",
      "\n",
      "\n",
      "Loading required package: class\n",
      "\n"
     ]
    }
   ],
   "source": [
    "# initial settings\n",
    "#Note the installation of the forecast packages takes a while\n",
    "library_path <- paste(getwd(), \"packages\",sep=\"/\")\n",
    "dir.create(library_path,showWarnings = FALSE)\n",
    ".libPaths(library_path)\n",
    "\n",
    "if(!require(tidyverse)){\n",
    "    install.packages(\"tidyverse\")\n",
    "    library(tidyverse)\n",
    "}\n",
    "if(!require(repr)){\n",
    "    install.packages(\"repr\")\n",
    "    library(repr)\n",
    "}\n",
    "if(!require(rpart)){\n",
    "    install.packages(\"rpart\")\n",
    "    library(rpart)\n",
    "}\n",
    "if(!require(rpart.plot)){\n",
    "    install.packages(\"rpart.plot\")\n",
    "    library(rpart.plot)\n",
    "}\n",
    "if(!require(caret)){\n",
    "    install.packages(\"caret\")\n",
    "    library(caret)\n",
    "}\n",
    "if(!require(precrec)){\n",
    "    install.packages(\"precrec\")\n",
    "    library(precrec)\n",
    "}\n",
    "if(!require(e1071)){\n",
    "    install.packages(\"e1071\")\n",
    "    library(e1071)\n",
    "}\n",
    "if(!require(ISLR)){\n",
    "    install.packages(\"ISLR\")\n",
    "    library(ISLR)\n",
    "}\n",
    "if(!require(Metrics)){\n",
    "    install.packages(\"Metrics\")\n",
    "    library(Metrics)\n",
    "}\n",
    "if(!require(class)){\n",
    "    install.packages(\"RPostgreSQL\")\n",
    "    library(class)\n",
    "}\n",
    "\n",
    "#library(tidyverse)\n",
    "#library(rpart)\n",
    "#library(rpart.plot)\n",
    "library(caret)\n",
    "#library(class)\n",
    "#library(e1071)\n",
    "\n",
    "#install.packages('precrec',lib='.', verbose=TRUE)\n",
    "#library(precrec,lib.loc='.')\n",
    "\n",
    "\n",
    "\n",
    "# Plot size depending on your screen resolution to 9 x 6\n",
    "options(repr.plot.width=9, repr.plot.height=6)\n"
   ]
  },
  {
   "cell_type": "markdown",
   "metadata": {
    "id": "565n6YKbykR6"
   },
   "source": [
    "# Welcome to Day 2 ML Worshop\n",
    "\n"
   ]
  },
  {
   "cell_type": "markdown",
   "metadata": {
    "id": "Sxatsov8ykR7"
   },
   "source": [
    "### Exercise 1: Builduing a k-NN - Personal Loan Acceptance Case"
   ]
  },
  {
   "cell_type": "markdown",
   "metadata": {
    "id": "gveak0qdykR8"
   },
   "source": [
    "Read in the `UniversalBank.csv` file. This dataset contains data on 5000 customers from the **Universal Bank**, a relatively young bank growing rapidly in terms of overall  customer acquisition.\n",
    "\n",
    "A campaign that the bank ran last year for liability customers showed a healthy conversion rate of over 9% success. This has encouraged the retail marketing department to devise smarter campaigns with better target marketing. The goal is to use **k-NN** to **predict whether a new customer will accept a loan offer**. This will serve as the basis for the design of a new campaign. \n",
    "\n",
    "The data include customer demographic information (age, income, etc.), the customer's relationship with the bank (mortgage, securities account, etc.), and the customer response to the last personal loan campaign (Personal Loan). Among these 5000 customers, only 480 (= 9.6%) accepted the personal loan that was offered to them in the earlier campaign. **Partition the data into training (60%) and validation (40%) sets.**"
   ]
  },
  {
   "cell_type": "code",
   "execution_count": 2,
   "metadata": {
    "colab": {
     "base_uri": "https://localhost:8080/"
    },
    "id": "MGgJ13D-ykR8",
    "outputId": "b78dedab-b72f-4f2e-ccc9-3e0d205a932c"
   },
   "outputs": [
    {
     "data": {
      "text/html": [
       "<style>\n",
       ".list-inline {list-style: none; margin:0; padding: 0}\n",
       ".list-inline>li {display: inline-block}\n",
       ".list-inline>li:not(:last-child)::after {content: \"\\00b7\"; padding: 0 .5ex}\n",
       "</style>\n",
       "<ol class=list-inline><li>5000</li><li>14</li></ol>\n"
      ],
      "text/latex": [
       "\\begin{enumerate*}\n",
       "\\item 5000\n",
       "\\item 14\n",
       "\\end{enumerate*}\n"
      ],
      "text/markdown": [
       "1. 5000\n",
       "2. 14\n",
       "\n",
       "\n"
      ],
      "text/plain": [
       "[1] 5000   14"
      ]
     },
     "metadata": {},
     "output_type": "display_data"
    },
    {
     "data": {
      "text/html": [
       "<table class=\"dataframe\">\n",
       "<caption>A matrix: 14 × 1 of type chr</caption>\n",
       "<tbody>\n",
       "\t<tr><td>ID                </td></tr>\n",
       "\t<tr><td>Age               </td></tr>\n",
       "\t<tr><td>Experience        </td></tr>\n",
       "\t<tr><td>Income            </td></tr>\n",
       "\t<tr><td>ZIP.Code          </td></tr>\n",
       "\t<tr><td>Family            </td></tr>\n",
       "\t<tr><td>CCAvg             </td></tr>\n",
       "\t<tr><td>Education         </td></tr>\n",
       "\t<tr><td>Mortgage          </td></tr>\n",
       "\t<tr><td>Personal.Loan     </td></tr>\n",
       "\t<tr><td>Securities.Account</td></tr>\n",
       "\t<tr><td>CD.Account        </td></tr>\n",
       "\t<tr><td>Online            </td></tr>\n",
       "\t<tr><td>CreditCard        </td></tr>\n",
       "</tbody>\n",
       "</table>\n"
      ],
      "text/latex": [
       "A matrix: 14 × 1 of type chr\n",
       "\\begin{tabular}{l}\n",
       "\t ID                \\\\\n",
       "\t Age               \\\\\n",
       "\t Experience        \\\\\n",
       "\t Income            \\\\\n",
       "\t ZIP.Code          \\\\\n",
       "\t Family            \\\\\n",
       "\t CCAvg             \\\\\n",
       "\t Education         \\\\\n",
       "\t Mortgage          \\\\\n",
       "\t Personal.Loan     \\\\\n",
       "\t Securities.Account\\\\\n",
       "\t CD.Account        \\\\\n",
       "\t Online            \\\\\n",
       "\t CreditCard        \\\\\n",
       "\\end{tabular}\n"
      ],
      "text/markdown": [
       "\n",
       "A matrix: 14 × 1 of type chr\n",
       "\n",
       "| ID                 |\n",
       "| Age                |\n",
       "| Experience         |\n",
       "| Income             |\n",
       "| ZIP.Code           |\n",
       "| Family             |\n",
       "| CCAvg              |\n",
       "| Education          |\n",
       "| Mortgage           |\n",
       "| Personal.Loan      |\n",
       "| Securities.Account |\n",
       "| CD.Account         |\n",
       "| Online             |\n",
       "| CreditCard         |\n",
       "\n"
      ],
      "text/plain": [
       "      [,1]              \n",
       " [1,] ID                \n",
       " [2,] Age               \n",
       " [3,] Experience        \n",
       " [4,] Income            \n",
       " [5,] ZIP.Code          \n",
       " [6,] Family            \n",
       " [7,] CCAvg             \n",
       " [8,] Education         \n",
       " [9,] Mortgage          \n",
       "[10,] Personal.Loan     \n",
       "[11,] Securities.Account\n",
       "[12,] CD.Account        \n",
       "[13,] Online            \n",
       "[14,] CreditCard        "
      ]
     },
     "metadata": {},
     "output_type": "display_data"
    }
   ],
   "source": [
    "#load the data\n",
    "universal.df <- read.csv(\"UniversalBank.csv\")\n",
    "dim(universal.df)\n",
    "t(t(names(universal.df)))"
   ]
  },
  {
   "cell_type": "code",
   "execution_count": 3,
   "metadata": {
    "colab": {
     "base_uri": "https://localhost:8080/",
     "height": 286
    },
    "id": "FDlYVun4ykR9",
    "outputId": "3c5e19ff-9a93-4d63-bced-9116f5a3cc69"
   },
   "outputs": [
    {
     "data": {
      "text/html": [
       "<table class=\"dataframe\">\n",
       "<caption>A matrix: 12 × 1 of type chr</caption>\n",
       "<tbody>\n",
       "\t<tr><td>Age               </td></tr>\n",
       "\t<tr><td>Experience        </td></tr>\n",
       "\t<tr><td>Income            </td></tr>\n",
       "\t<tr><td>Family            </td></tr>\n",
       "\t<tr><td>CCAvg             </td></tr>\n",
       "\t<tr><td>Education         </td></tr>\n",
       "\t<tr><td>Mortgage          </td></tr>\n",
       "\t<tr><td>Personal.Loan     </td></tr>\n",
       "\t<tr><td>Securities.Account</td></tr>\n",
       "\t<tr><td>CD.Account        </td></tr>\n",
       "\t<tr><td>Online            </td></tr>\n",
       "\t<tr><td>CreditCard        </td></tr>\n",
       "</tbody>\n",
       "</table>\n"
      ],
      "text/latex": [
       "A matrix: 12 × 1 of type chr\n",
       "\\begin{tabular}{l}\n",
       "\t Age               \\\\\n",
       "\t Experience        \\\\\n",
       "\t Income            \\\\\n",
       "\t Family            \\\\\n",
       "\t CCAvg             \\\\\n",
       "\t Education         \\\\\n",
       "\t Mortgage          \\\\\n",
       "\t Personal.Loan     \\\\\n",
       "\t Securities.Account\\\\\n",
       "\t CD.Account        \\\\\n",
       "\t Online            \\\\\n",
       "\t CreditCard        \\\\\n",
       "\\end{tabular}\n"
      ],
      "text/markdown": [
       "\n",
       "A matrix: 12 × 1 of type chr\n",
       "\n",
       "| Age                |\n",
       "| Experience         |\n",
       "| Income             |\n",
       "| Family             |\n",
       "| CCAvg              |\n",
       "| Education          |\n",
       "| Mortgage           |\n",
       "| Personal.Loan      |\n",
       "| Securities.Account |\n",
       "| CD.Account         |\n",
       "| Online             |\n",
       "| CreditCard         |\n",
       "\n"
      ],
      "text/plain": [
       "      [,1]              \n",
       " [1,] Age               \n",
       " [2,] Experience        \n",
       " [3,] Income            \n",
       " [4,] Family            \n",
       " [5,] CCAvg             \n",
       " [6,] Education         \n",
       " [7,] Mortgage          \n",
       " [8,] Personal.Loan     \n",
       " [9,] Securities.Account\n",
       "[10,] CD.Account        \n",
       "[11,] Online            \n",
       "[12,] CreditCard        "
      ]
     },
     "metadata": {},
     "output_type": "display_data"
    }
   ],
   "source": [
    "# partition the data\n",
    "set.seed(1)  \n",
    "train.index <- sample(row.names(universal.df), 0.6*dim(universal.df)[1])\n",
    "valid.index <- setdiff(row.names(universal.df), train.index)  \n",
    "train.df <- universal.df[train.index, -c(1, 5)]\n",
    "valid.df <- universal.df[valid.index, -c(1, 5)]\n",
    "t(t(names(train.df)))"
   ]
  },
  {
   "cell_type": "markdown",
   "metadata": {},
   "source": [
    "Consider the following customer:\n",
    "- Age = 40, Experience = 10, Income = 84, Family = 2, CCAvg = 2, Education = 2, \n",
    "- Mortgage = 0, Securities Account = 0, CD Account = 0, Online = 1, and\n",
    "- Credit Card = 1. \n",
    "\n",
    "Perform a k-NN classification with all predictors except `ID` and `ZIP code` using `k = 1`. \n",
    "\n",
    "Note that using KNN in the class library, categorical predictors are automatically handled."
   ]
  },
  {
   "cell_type": "code",
   "execution_count": 4,
   "metadata": {
    "colab": {
     "base_uri": "https://localhost:8080/",
     "height": 286
    },
    "id": "vFefpERuykR9",
    "outputId": "735e53d2-4aa2-42d4-e900-2d79112e0c67"
   },
   "outputs": [],
   "source": [
    "# builduing the new customer data\n",
    "new.cust <- data.frame(Age = 40,                \n",
    "                       Experience = 10,     \n",
    "                       Income = 84,   \n",
    "                       Family = 2,          \n",
    "                       CCAvg = 2,          \n",
    "                       Education = 2,        \n",
    "                       Mortgage = 0,           \n",
    "                       Securities.Account = 0, \n",
    "                       CD.Account = 0, \n",
    "                       Online = 1,            \n",
    "                       CreditCard = 1)\n"
   ]
  },
  {
   "cell_type": "code",
   "execution_count": 5,
   "metadata": {
    "id": "XMsMlU1sykR-"
   },
   "outputs": [],
   "source": [
    "# normalize the data\n",
    "train.norm.df <- train.df[,-8]\n",
    "valid.norm.df <- valid.df[,-8]\n",
    "\n",
    "new.cust.norm <- new.cust\n",
    "norm.values <- preProcess(train.df[, -8], method=c(\"center\", \"scale\"))\n",
    "train.norm.df <- predict(norm.values, train.df[, -8])\n",
    "valid.norm.df <- predict(norm.values, valid.df[, -8])\n",
    "new.cust.norm <- predict(norm.values, new.cust.norm)"
   ]
  },
  {
   "cell_type": "code",
   "execution_count": 6,
   "metadata": {
    "id": "nr6H0QycykR-"
   },
   "outputs": [
    {
     "data": {
      "text/html": [
       "0\n",
       "<details>\n",
       "\t<summary style=display:list-item;cursor:pointer>\n",
       "\t\t<strong>Levels</strong>:\n",
       "\t</summary>\n",
       "\t<style>\n",
       "\t.list-inline {list-style: none; margin:0; padding: 0}\n",
       "\t.list-inline>li {display: inline-block}\n",
       "\t.list-inline>li:not(:last-child)::after {content: \"\\00b7\"; padding: 0 .5ex}\n",
       "\t</style>\n",
       "\t<ol class=list-inline><li>'0'</li><li>'1'</li></ol>\n",
       "</details>"
      ],
      "text/latex": [
       "0\n",
       "\\emph{Levels}: \\begin{enumerate*}\n",
       "\\item '0'\n",
       "\\item '1'\n",
       "\\end{enumerate*}\n"
      ],
      "text/markdown": [
       "0\n",
       "**Levels**: 1. '0'\n",
       "2. '1'\n",
       "\n",
       "\n"
      ],
      "text/plain": [
       "[1] 0\n",
       "Levels: 0 1"
      ]
     },
     "metadata": {},
     "output_type": "display_data"
    }
   ],
   "source": [
    "# running the kNN\n",
    "knn.pred <- class::knn(train = train.norm.df, \n",
    "                       test = new.cust.norm, \n",
    "                       cl = train.df$Personal.Loan, k = 1)\n",
    "knn.pred"
   ]
  },
  {
   "cell_type": "markdown",
   "metadata": {
    "id": "wsp085omykR_"
   },
   "source": [
    "#### Answer: \n",
    "From the output we conclude that the above customer is classified as belonging to the **\"loan not accepted\"** group."
   ]
  },
  {
   "cell_type": "markdown",
   "metadata": {},
   "source": [
    "### Trying to find the optimal `k`"
   ]
  },
  {
   "cell_type": "markdown",
   "metadata": {
    "id": "Y2g7Q1hJykR_"
   },
   "source": [
    "What is a choice of `k` that balances between overfitting and ignoring the predictor information?"
   ]
  },
  {
   "cell_type": "code",
   "execution_count": 7,
   "metadata": {
    "colab": {
     "base_uri": "https://localhost:8080/",
     "height": 225
    },
    "id": "Ly_84T6VykR_",
    "outputId": "cd7dabfe-7f42-4cbc-b9ee-8aa52884f48d"
   },
   "outputs": [
    {
     "data": {
      "text/html": [
       "3"
      ],
      "text/latex": [
       "3"
      ],
      "text/markdown": [
       "3"
      ],
      "text/plain": [
       "[1] 3"
      ]
     },
     "metadata": {},
     "output_type": "display_data"
    }
   ],
   "source": [
    "# optimal k\n",
    "accuracy.df <- data.frame(k = seq(1, 15, 1), overallaccurace = rep(0, 15))\n",
    "for(i in 1:15) {\n",
    "  knn.pred <- class::knn(train = train.norm.df, \n",
    "                         test = valid.norm.df, \n",
    "                         cl = train.df$Personal.Loan, k = i)\n",
    "  accuracy.df[i, 2] <- confusionMatrix(knn.pred, \n",
    "                                       as.factor(valid.df$Personal.Loan))$overall[1]\n",
    "}\n",
    "\n",
    "which(accuracy.df[,2] == max(accuracy.df[,2])) "
   ]
  },
  {
   "cell_type": "markdown",
   "metadata": {
    "colab": {
     "base_uri": "https://localhost:8080/"
    },
    "id": "Li69U2l2ykSA",
    "outputId": "5120a20c-e96f-4ef2-cc7c-4730acd30d96"
   },
   "source": [
    "#### Partial answer:\n",
    "The output returned that the optimal value (the one with the max accuracy) is `k=3`."
   ]
  },
  {
   "cell_type": "markdown",
   "metadata": {
    "id": "IKvz4LoRykSA"
   },
   "source": [
    "Now let's see the accuracy for each value of `k`:"
   ]
  },
  {
   "cell_type": "code",
   "execution_count": 8,
   "metadata": {
    "colab": {
     "base_uri": "https://localhost:8080/",
     "height": 377
    },
    "id": "Rqaadw1CykSB",
    "outputId": "e093921e-78a2-428b-aa54-c6d1c2d6cba4"
   },
   "outputs": [
    {
     "data": {
      "text/html": [
       "<table class=\"dataframe\">\n",
       "<caption>A data.frame: 15 × 2</caption>\n",
       "<thead>\n",
       "\t<tr><th scope=col>k</th><th scope=col>overallaccurace</th></tr>\n",
       "\t<tr><th scope=col>&lt;dbl&gt;</th><th scope=col>&lt;dbl&gt;</th></tr>\n",
       "</thead>\n",
       "<tbody>\n",
       "\t<tr><td> 1</td><td>0.9565</td></tr>\n",
       "\t<tr><td> 2</td><td>0.9525</td></tr>\n",
       "\t<tr><td> 3</td><td>0.9590</td></tr>\n",
       "\t<tr><td> 4</td><td>0.9580</td></tr>\n",
       "\t<tr><td> 5</td><td>0.9585</td></tr>\n",
       "\t<tr><td> 6</td><td>0.9535</td></tr>\n",
       "\t<tr><td> 7</td><td>0.9545</td></tr>\n",
       "\t<tr><td> 8</td><td>0.9545</td></tr>\n",
       "\t<tr><td> 9</td><td>0.9555</td></tr>\n",
       "\t<tr><td>10</td><td>0.9545</td></tr>\n",
       "\t<tr><td>11</td><td>0.9545</td></tr>\n",
       "\t<tr><td>12</td><td>0.9510</td></tr>\n",
       "\t<tr><td>13</td><td>0.9510</td></tr>\n",
       "\t<tr><td>14</td><td>0.9480</td></tr>\n",
       "\t<tr><td>15</td><td>0.9475</td></tr>\n",
       "</tbody>\n",
       "</table>\n"
      ],
      "text/latex": [
       "A data.frame: 15 × 2\n",
       "\\begin{tabular}{ll}\n",
       " k & overallaccurace\\\\\n",
       " <dbl> & <dbl>\\\\\n",
       "\\hline\n",
       "\t  1 & 0.9565\\\\\n",
       "\t  2 & 0.9525\\\\\n",
       "\t  3 & 0.9590\\\\\n",
       "\t  4 & 0.9580\\\\\n",
       "\t  5 & 0.9585\\\\\n",
       "\t  6 & 0.9535\\\\\n",
       "\t  7 & 0.9545\\\\\n",
       "\t  8 & 0.9545\\\\\n",
       "\t  9 & 0.9555\\\\\n",
       "\t 10 & 0.9545\\\\\n",
       "\t 11 & 0.9545\\\\\n",
       "\t 12 & 0.9510\\\\\n",
       "\t 13 & 0.9510\\\\\n",
       "\t 14 & 0.9480\\\\\n",
       "\t 15 & 0.9475\\\\\n",
       "\\end{tabular}\n"
      ],
      "text/markdown": [
       "\n",
       "A data.frame: 15 × 2\n",
       "\n",
       "| k &lt;dbl&gt; | overallaccurace &lt;dbl&gt; |\n",
       "|---|---|\n",
       "|  1 | 0.9565 |\n",
       "|  2 | 0.9525 |\n",
       "|  3 | 0.9590 |\n",
       "|  4 | 0.9580 |\n",
       "|  5 | 0.9585 |\n",
       "|  6 | 0.9535 |\n",
       "|  7 | 0.9545 |\n",
       "|  8 | 0.9545 |\n",
       "|  9 | 0.9555 |\n",
       "| 10 | 0.9545 |\n",
       "| 11 | 0.9545 |\n",
       "| 12 | 0.9510 |\n",
       "| 13 | 0.9510 |\n",
       "| 14 | 0.9480 |\n",
       "| 15 | 0.9475 |\n",
       "\n"
      ],
      "text/plain": [
       "   k  overallaccurace\n",
       "1   1 0.9565         \n",
       "2   2 0.9525         \n",
       "3   3 0.9590         \n",
       "4   4 0.9580         \n",
       "5   5 0.9585         \n",
       "6   6 0.9535         \n",
       "7   7 0.9545         \n",
       "8   8 0.9545         \n",
       "9   9 0.9555         \n",
       "10 10 0.9545         \n",
       "11 11 0.9545         \n",
       "12 12 0.9510         \n",
       "13 13 0.9510         \n",
       "14 14 0.9480         \n",
       "15 15 0.9475         "
      ]
     },
     "metadata": {},
     "output_type": "display_data"
    }
   ],
   "source": [
    "# checking the accuracy per level of k built by the code above\n",
    "accuracy.df"
   ]
  },
  {
   "cell_type": "markdown",
   "metadata": {
    "id": "naou4rdCykSB"
   },
   "source": [
    "#### Answer:\n",
    "Best **k = 3**. The value of k that balances between overfitting (k too small) and ignoring the predictor information (k too large) is 3."
   ]
  },
  {
   "cell_type": "markdown",
   "metadata": {},
   "source": [
    "Nowt, show the **confusion matrix** for the **validation data** that results from using the best k."
   ]
  },
  {
   "cell_type": "code",
   "execution_count": 9,
   "metadata": {
    "colab": {
     "base_uri": "https://localhost:8080/",
     "height": 34
    },
    "id": "53n_1L9-ykSB",
    "outputId": "68c813cc-b108-429e-bada-6f9184ad02ac"
   },
   "outputs": [
    {
     "data": {
      "text/plain": [
       "Confusion Matrix and Statistics\n",
       "\n",
       "          Reference\n",
       "Prediction    0    1\n",
       "         0 1783   70\n",
       "         1   12  135\n",
       "                                          \n",
       "               Accuracy : 0.959           \n",
       "                 95% CI : (0.9494, 0.9673)\n",
       "    No Information Rate : 0.8975          \n",
       "    P-Value [Acc > NIR] : < 2.2e-16       \n",
       "                                          \n",
       "                  Kappa : 0.7452          \n",
       "                                          \n",
       " Mcnemar's Test P-Value : 3.082e-10       \n",
       "                                          \n",
       "            Sensitivity : 0.6585          \n",
       "            Specificity : 0.9933          \n",
       "         Pos Pred Value : 0.9184          \n",
       "         Neg Pred Value : 0.9622          \n",
       "             Prevalence : 0.1025          \n",
       "         Detection Rate : 0.0675          \n",
       "   Detection Prevalence : 0.0735          \n",
       "      Balanced Accuracy : 0.8259          \n",
       "                                          \n",
       "       'Positive' Class : 1               \n",
       "                                          "
      ]
     },
     "metadata": {},
     "output_type": "display_data"
    }
   ],
   "source": [
    "# knn with k = 3\n",
    "knn.pred <- class::knn(train = train.norm.df, \n",
    "                       test = valid.norm.df, \n",
    "                       cl = train.df$Personal.Loan, k = 3)\n",
    "\n",
    "confusionMatrix(knn.pred, as.factor(valid.df$Personal.Loan), positive = \"1\")"
   ]
  },
  {
   "cell_type": "markdown",
   "metadata": {
    "id": "YSI6KZBEykSB"
   },
   "source": [
    "Consider the following customer: \n",
    "- Age = 40, Experience = 10, \n",
    "- Income = 84, Family = 2, CCAvg = 2, Education = 2, Mortgage = 0, \n",
    "- Securities Account = 0, CD Account = 0, Online = 1 and Credit Card = 1. \n",
    "\n",
    "Classify the customer using the **best k**."
   ]
  },
  {
   "cell_type": "code",
   "execution_count": 10,
   "metadata": {
    "colab": {
     "base_uri": "https://localhost:8080/",
     "height": 34
    },
    "id": "GkakMF2JykSC",
    "outputId": "5559b05d-459d-44d6-bcee-8c453ca2954d"
   },
   "outputs": [
    {
     "data": {
      "text/html": [
       "0\n",
       "<details>\n",
       "\t<summary style=display:list-item;cursor:pointer>\n",
       "\t\t<strong>Levels</strong>:\n",
       "\t</summary>\n",
       "\t<style>\n",
       "\t.list-inline {list-style: none; margin:0; padding: 0}\n",
       "\t.list-inline>li {display: inline-block}\n",
       "\t.list-inline>li:not(:last-child)::after {content: \"\\00b7\"; padding: 0 .5ex}\n",
       "\t</style>\n",
       "\t<ol class=list-inline><li>'0'</li><li>'1'</li></ol>\n",
       "</details>"
      ],
      "text/latex": [
       "0\n",
       "\\emph{Levels}: \\begin{enumerate*}\n",
       "\\item '0'\n",
       "\\item '1'\n",
       "\\end{enumerate*}\n"
      ],
      "text/markdown": [
       "0\n",
       "**Levels**: 1. '0'\n",
       "2. '1'\n",
       "\n",
       "\n"
      ],
      "text/plain": [
       "[1] 0\n",
       "Levels: 0 1"
      ]
     },
     "metadata": {},
     "output_type": "display_data"
    }
   ],
   "source": [
    "# predict new customer with k = 3\n",
    "knn.pred <- class::knn(train = train.norm.df, \n",
    "                       test = new.cust.norm, \n",
    "                       cl = train.df$Personal.Loan, k = 3)\n",
    "knn.pred"
   ]
  },
  {
   "cell_type": "markdown",
   "metadata": {
    "id": "5-2oZbztykSC"
   },
   "source": [
    "### Repartition the data, this time into training, validation, and test sets (50% : 30% : 20%)"
   ]
  },
  {
   "cell_type": "markdown",
   "metadata": {
    "id": "qtNy7YWSykSC"
   },
   "source": [
    "Apply the k-NN method with the k chosen above. Compare the confusion matrix of the test set with that of the training and validation sets. Comment on the differences and their reason. "
   ]
  },
  {
   "cell_type": "code",
   "execution_count": 11,
   "metadata": {
    "colab": {
     "base_uri": "https://localhost:8080/",
     "height": 681
    },
    "id": "KOWzysAHykSC",
    "nbgrader": {
     "grade": false,
     "grade_id": "cell-46b18fd6e2530a23",
     "locked": false,
     "schema_version": 1,
     "solution": true
    },
    "outputId": "7bd76ee3-bc92-4fc4-8c9c-43a95e5f46de"
   },
   "outputs": [],
   "source": [
    "# 3-way partition\n",
    "set.seed(1)  \n",
    "train.index <- sample(row.names(universal.df), 0.5*dim(universal.df)[1])\n",
    "valid.index <- sample(setdiff(row.names(universal.df), train.index), \n",
    "                      0.3*dim(universal.df)[1])\n",
    "test.index <-  setdiff(row.names(universal.df), c(train.index, valid.index)) \n",
    "train.df <- universal.df[train.index, -c(1, 5)]\n",
    "valid.df <- universal.df[valid.index, -c(1, 5)]\n",
    "test.df <- universal.df[test.index, -c(1, 5)]"
   ]
  },
  {
   "cell_type": "code",
   "execution_count": 12,
   "metadata": {
    "id": "go8ImRZhykSD",
    "nbgrader": {
     "grade": false,
     "grade_id": "cell-c56317542f924e7a",
     "locked": false,
     "schema_version": 1,
     "solution": true
    }
   },
   "outputs": [],
   "source": [
    "# normalization\n",
    "train.norm.df <- train.df[,-8]\n",
    "valid.norm.df <- valid.df[,-8]\n",
    "test.norm.df <- test.df[,-8]\n",
    "norm.values <- preProcess(train.df[, -8], method=c(\"center\", \"scale\"))\n",
    "train.norm.df <- predict(norm.values, train.df[, -8])\n",
    "valid.norm.df <- predict(norm.values, valid.df[, -8])\n",
    "test.norm.df <- predict(norm.values, test.df[, -8])\n"
   ]
  },
  {
   "cell_type": "code",
   "execution_count": 13,
   "metadata": {
    "colab": {
     "base_uri": "https://localhost:8080/",
     "height": 725
    },
    "id": "H2F9SMfzykSD",
    "outputId": "c7aa4a84-a003-4a83-807b-3bb1b7c61bf6"
   },
   "outputs": [
    {
     "data": {
      "text/plain": [
       "Confusion Matrix and Statistics\n",
       "\n",
       "          Reference\n",
       "Prediction    0    1\n",
       "         0 2260   60\n",
       "         1    8  172\n",
       "                                          \n",
       "               Accuracy : 0.9728          \n",
       "                 95% CI : (0.9656, 0.9788)\n",
       "    No Information Rate : 0.9072          \n",
       "    P-Value [Acc > NIR] : < 2.2e-16       \n",
       "                                          \n",
       "                  Kappa : 0.8204          \n",
       "                                          \n",
       " Mcnemar's Test P-Value : 6.224e-10       \n",
       "                                          \n",
       "            Sensitivity : 0.7414          \n",
       "            Specificity : 0.9965          \n",
       "         Pos Pred Value : 0.9556          \n",
       "         Neg Pred Value : 0.9741          \n",
       "             Prevalence : 0.0928          \n",
       "         Detection Rate : 0.0688          \n",
       "   Detection Prevalence : 0.0720          \n",
       "      Balanced Accuracy : 0.8689          \n",
       "                                          \n",
       "       'Positive' Class : 1               \n",
       "                                          "
      ]
     },
     "metadata": {},
     "output_type": "display_data"
    }
   ],
   "source": [
    "# predictions on train\n",
    "knn.predt <- class::knn(train = train.norm.df, \n",
    "                       test = train.norm.df, \n",
    "                       cl = train.df$Personal.Loan, k = 3)\n",
    "\n",
    "confusionMatrix(knn.predt, as.factor(train.df$Personal.Loan), positive = \"1\")"
   ]
  },
  {
   "cell_type": "code",
   "execution_count": 14,
   "metadata": {
    "colab": {
     "base_uri": "https://localhost:8080/",
     "height": 681
    },
    "id": "nQTBTmNNykSE",
    "nbgrader": {
     "grade": false,
     "grade_id": "cell-c00508cc14b4a388",
     "locked": false,
     "schema_version": 1,
     "solution": true
    },
    "outputId": "72c13ef2-34d4-49ee-fd3c-d95b5eaac2dc"
   },
   "outputs": [
    {
     "data": {
      "text/plain": [
       "Confusion Matrix and Statistics\n",
       "\n",
       "          Reference\n",
       "Prediction    0    1\n",
       "         0 1358   44\n",
       "         1    6   92\n",
       "                                          \n",
       "               Accuracy : 0.9667          \n",
       "                 95% CI : (0.9563, 0.9752)\n",
       "    No Information Rate : 0.9093          \n",
       "    P-Value [Acc > NIR] : < 2.2e-16       \n",
       "                                          \n",
       "                  Kappa : 0.7688          \n",
       "                                          \n",
       " Mcnemar's Test P-Value : 1.672e-07       \n",
       "                                          \n",
       "            Sensitivity : 0.67647         \n",
       "            Specificity : 0.99560         \n",
       "         Pos Pred Value : 0.93878         \n",
       "         Neg Pred Value : 0.96862         \n",
       "             Prevalence : 0.09067         \n",
       "         Detection Rate : 0.06133         \n",
       "   Detection Prevalence : 0.06533         \n",
       "      Balanced Accuracy : 0.83604         \n",
       "                                          \n",
       "       'Positive' Class : 1               \n",
       "                                          "
      ]
     },
     "metadata": {},
     "output_type": "display_data"
    }
   ],
   "source": [
    "# predictions on validation\n",
    "knn.predv <- class::knn(train = train.norm.df, \n",
    "                       test = valid.norm.df, \n",
    "                       cl = train.df$Personal.Loan, k = 3)\n",
    "\n",
    "confusionMatrix(knn.predv, as.factor(valid.df$Personal.Loan), positive = \"1\")"
   ]
  },
  {
   "cell_type": "code",
   "execution_count": 15,
   "metadata": {
    "id": "BNE8Lm6uykSE"
   },
   "outputs": [
    {
     "data": {
      "text/plain": [
       "Confusion Matrix and Statistics\n",
       "\n",
       "          Reference\n",
       "Prediction   0   1\n",
       "         0 882  40\n",
       "         1   6  72\n",
       "                                          \n",
       "               Accuracy : 0.954           \n",
       "                 95% CI : (0.9391, 0.9661)\n",
       "    No Information Rate : 0.888           \n",
       "    P-Value [Acc > NIR] : 1.144e-13       \n",
       "                                          \n",
       "                  Kappa : 0.7334          \n",
       "                                          \n",
       " Mcnemar's Test P-Value : 1.141e-06       \n",
       "                                          \n",
       "            Sensitivity : 0.6429          \n",
       "            Specificity : 0.9932          \n",
       "         Pos Pred Value : 0.9231          \n",
       "         Neg Pred Value : 0.9566          \n",
       "             Prevalence : 0.1120          \n",
       "         Detection Rate : 0.0720          \n",
       "   Detection Prevalence : 0.0780          \n",
       "      Balanced Accuracy : 0.8181          \n",
       "                                          \n",
       "       'Positive' Class : 1               \n",
       "                                          "
      ]
     },
     "metadata": {},
     "output_type": "display_data"
    }
   ],
   "source": [
    "# predictions on test\n",
    "knn.predtt <- class::knn(train = train.norm.df, \n",
    "                       test = test.norm.df, \n",
    "                       cl = train.df$Personal.Loan, k = 3)\n",
    "confusionMatrix(knn.predtt, as.factor(test.df$Personal.Loan), positive = \"1\")"
   ]
  },
  {
   "cell_type": "markdown",
   "metadata": {
    "id": "XtXdGtC7ykSF"
   },
   "source": [
    "### Conclusion:\n",
    "\n",
    "We choose the best k, which minimizes the misclassification rate in the validation set. Our best k is 3. From the above confusion matrices we observe the following:\n",
    "\n",
    "- The error rate increases from the training set to the validation set, and again from the validation set to the test set.  \n",
    "\n",
    "- The differences are small, but this decreased performance, at least in the test set, is not unexpected - both the training and validation sets are used in setting the optimal k so there can be **overfitting**. \n",
    "\n",
    "- The test set was not used to select the optimal k, so reflects expected performance with new data, slightly less accurate.\n",
    "\n",
    "- So, we can conclude that the model is not overfitting."
   ]
  }
 ],
 "metadata": {
  "celltoolbar": "Create Assignment",
  "colab": {
   "collapsed_sections": [],
   "name": "workshop11_2021_solution.ipynb",
   "provenance": []
  },
  "kernelspec": {
   "display_name": "R",
   "language": "R",
   "name": "ir"
  },
  "language_info": {
   "codemirror_mode": "r",
   "file_extension": ".r",
   "mimetype": "text/x-r-source",
   "name": "R",
   "pygments_lexer": "r",
   "version": "4.1.2"
  }
 },
 "nbformat": 4,
 "nbformat_minor": 1
}
